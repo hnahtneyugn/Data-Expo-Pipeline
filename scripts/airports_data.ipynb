{
 "cells": [
  {
   "cell_type": "code",
   "execution_count": 1,
   "id": "2aeac373-6b4b-493c-b4c6-05310604157e",
   "metadata": {},
   "outputs": [],
   "source": [
    "import pyspark\n",
    "from pyspark.sql import SparkSession\n",
    "from pyspark.conf import SparkConf\n",
    "from pyspark.context import SparkContext\n",
    "from pyspark.sql import functions as sf"
   ]
  },
  {
   "cell_type": "code",
   "execution_count": 2,
   "id": "a14fa4f7-cb65-424d-b214-c597b9700c9a",
   "metadata": {},
   "outputs": [
    {
     "name": "stderr",
     "output_type": "stream",
     "text": [
      "25/08/12 09:23:04 WARN NativeCodeLoader: Unable to load native-hadoop library for your platform... using builtin-java classes where applicable\n",
      "Setting default log level to \"WARN\".\n",
      "To adjust logging level use sc.setLogLevel(newLevel). For SparkR, use setLogLevel(newLevel).\n"
     ]
    }
   ],
   "source": [
    "spark = SparkSession \\\n",
    "        .builder \\\n",
    "        .master(\"spark://spark-master:7077\") \\\n",
    "        .config(\n",
    "        \"spark.jars\",\n",
    "        \"/opt/bitnami/spark/jars/gcs-connector-hadoop3-latest.jar,\"\n",
    "        \"/opt/bitnami/spark/jars/spark-bigquery-with-dependencies_2.12-0.42.4.jar\"\n",
    "        ) \\\n",
    "        .appName('gcs-bq-pyspark') \\\n",
    "        .getOrCreate()"
   ]
  },
  {
   "cell_type": "code",
   "execution_count": 3,
   "id": "67e1cfb3-c625-40ef-aeea-73588845d29e",
   "metadata": {},
   "outputs": [],
   "source": [
    "spark.sparkContext.setLogLevel(\"WARN\")\n",
    "\n",
    "spark._jsc.hadoopConfiguration().set('fs.gs.impl', 'com.google.cloud.hadoop.fs.gcs.GoogleHadoopFileSystem')\n",
    "spark._jsc.hadoopConfiguration().set('fs.gs.auth.service.account.enable', 'true')\n",
    "spark._jsc.hadoopConfiguration().set('google.cloud.auth.service.account.json.keyfile', \"/opt/keys/credentials.json\")"
   ]
  },
  {
   "cell_type": "code",
   "execution_count": 4,
   "id": "c089e687-9ba6-450c-bad2-8722458189d6",
   "metadata": {},
   "outputs": [],
   "source": [
    "# File information\n",
    "bucket_name = \"data_expo_bucket\"\n",
    "file_name = \"airports_data.csv\"\n",
    "file_path = f\"gs://{bucket_name}/{file_name}\""
   ]
  },
  {
   "cell_type": "code",
   "execution_count": 5,
   "id": "5c7a763c-06f3-409d-883c-6a1e49999987",
   "metadata": {},
   "outputs": [
    {
     "name": "stderr",
     "output_type": "stream",
     "text": [
      "                                                                                "
     ]
    }
   ],
   "source": [
    "# Read CSV file\n",
    "airports_data = spark.read.option(\"inferSchema\", \"true\").option(\"header\", \"true\").csv(file_path)"
   ]
  },
  {
   "cell_type": "code",
   "execution_count": 6,
   "id": "f6bf76a7-1e9b-4916-b117-e881c8f93e9d",
   "metadata": {},
   "outputs": [
    {
     "name": "stdout",
     "output_type": "stream",
     "text": [
      "+----+--------------------+------------------+-----+-------+-----------+------------+\n",
      "|iata|             airport|              city|state|country|        lat|        long|\n",
      "+----+--------------------+------------------+-----+-------+-----------+------------+\n",
      "| 00M|            Thigpen |       Bay Springs|   MS|    USA|31.95376472|-89.23450472|\n",
      "| 00R|Livingston Municipal|        Livingston|   TX|    USA|30.68586111|-95.01792778|\n",
      "| 00V|         Meadow Lake|  Colorado Springs|   CO|    USA|38.94574889|-104.5698933|\n",
      "| 01G|        Perry-Warsaw|             Perry|   NY|    USA|42.74134667|-78.05208056|\n",
      "| 01J|    Hilliard Airpark|          Hilliard|   FL|    USA| 30.6880125|-81.90594389|\n",
      "| 01M|   Tishomingo County|           Belmont|   MS|    USA|34.49166667|-88.20111111|\n",
      "| 02A|         Gragg-Wade |           Clanton|   AL|    USA|32.85048667|-86.61145333|\n",
      "| 02C|             Capitol|        Brookfield|   WI|    USA|   43.08751|-88.17786917|\n",
      "| 02G|   Columbiana County|    East Liverpool|   OH|    USA|40.67331278|-80.64140639|\n",
      "| 03D|    Memphis Memorial|           Memphis|   MO|    USA|40.44725889|-92.22696056|\n",
      "| 04M|      Calhoun County|         Pittsboro|   MS|    USA|33.93011222|-89.34285194|\n",
      "| 04Y|    Hawley Municipal|            Hawley|   MN|    USA|46.88384889|-96.35089861|\n",
      "| 05C|Griffith-Merrillv...|          Griffith|   IN|    USA|41.51961917|-87.40109333|\n",
      "| 05F|Gatesville - City...|        Gatesville|   TX|    USA|31.42127556|-97.79696778|\n",
      "| 05U|              Eureka|            Eureka|   NV|    USA|39.60416667|-116.0050597|\n",
      "| 06A|    Moton  Municipal|          Tuskegee|   AL|    USA|32.46047167|-85.68003611|\n",
      "| 06C|          Schaumburg|Chicago/Schaumburg|   IL|    USA|41.98934083|-88.10124278|\n",
      "| 06D|     Rolla Municipal|             Rolla|   ND|    USA|48.88434111|-99.62087694|\n",
      "| 06M|    Eupora Municipal|            Eupora|   MS|    USA|33.53456583|-89.31256917|\n",
      "| 06N|            Randall |        Middletown|   NY|    USA|41.43156583|-74.39191722|\n",
      "+----+--------------------+------------------+-----+-------+-----------+------------+\n",
      "only showing top 20 rows\n",
      "\n"
     ]
    }
   ],
   "source": [
    "# Show the data\n",
    "airports_data.show()"
   ]
  },
  {
   "cell_type": "code",
   "execution_count": 7,
   "id": "1ba82fa6-0db6-4136-800f-ffd83b0261cd",
   "metadata": {},
   "outputs": [
    {
     "data": {
      "text/plain": [
       "StructType([StructField('iata', StringType(), True), StructField('airport', StringType(), True), StructField('city', StringType(), True), StructField('state', StringType(), True), StructField('country', StringType(), True), StructField('lat', DoubleType(), True), StructField('long', DoubleType(), True)])"
      ]
     },
     "execution_count": 7,
     "metadata": {},
     "output_type": "execute_result"
    }
   ],
   "source": [
    "# Read file schema\n",
    "airports_data.schema"
   ]
  },
  {
   "cell_type": "code",
   "execution_count": 8,
   "id": "a43a4ccd-7c31-40ca-a602-efb0a4a52dab",
   "metadata": {},
   "outputs": [],
   "source": [
    "# Rename columns\n",
    "airports_data = airports_data.withColumnRenamed(\"iata\", \"IATA\").withColumnRenamed(\"lat\", \"latitude\").withColumnRenamed(\"long\", \"longitude\")"
   ]
  },
  {
   "cell_type": "code",
   "execution_count": 9,
   "id": "bbf72403-00b6-4757-8d90-a2a5bd023a77",
   "metadata": {},
   "outputs": [
    {
     "name": "stdout",
     "output_type": "stream",
     "text": [
      "+----+--------------------+------------------+-----+-------+-----------+------------+\n",
      "|IATA|             airport|              city|state|country|   latitude|   longitude|\n",
      "+----+--------------------+------------------+-----+-------+-----------+------------+\n",
      "| 00M|            Thigpen |       Bay Springs|   MS|    USA|31.95376472|-89.23450472|\n",
      "| 00R|Livingston Municipal|        Livingston|   TX|    USA|30.68586111|-95.01792778|\n",
      "| 00V|         Meadow Lake|  Colorado Springs|   CO|    USA|38.94574889|-104.5698933|\n",
      "| 01G|        Perry-Warsaw|             Perry|   NY|    USA|42.74134667|-78.05208056|\n",
      "| 01J|    Hilliard Airpark|          Hilliard|   FL|    USA| 30.6880125|-81.90594389|\n",
      "| 01M|   Tishomingo County|           Belmont|   MS|    USA|34.49166667|-88.20111111|\n",
      "| 02A|         Gragg-Wade |           Clanton|   AL|    USA|32.85048667|-86.61145333|\n",
      "| 02C|             Capitol|        Brookfield|   WI|    USA|   43.08751|-88.17786917|\n",
      "| 02G|   Columbiana County|    East Liverpool|   OH|    USA|40.67331278|-80.64140639|\n",
      "| 03D|    Memphis Memorial|           Memphis|   MO|    USA|40.44725889|-92.22696056|\n",
      "| 04M|      Calhoun County|         Pittsboro|   MS|    USA|33.93011222|-89.34285194|\n",
      "| 04Y|    Hawley Municipal|            Hawley|   MN|    USA|46.88384889|-96.35089861|\n",
      "| 05C|Griffith-Merrillv...|          Griffith|   IN|    USA|41.51961917|-87.40109333|\n",
      "| 05F|Gatesville - City...|        Gatesville|   TX|    USA|31.42127556|-97.79696778|\n",
      "| 05U|              Eureka|            Eureka|   NV|    USA|39.60416667|-116.0050597|\n",
      "| 06A|    Moton  Municipal|          Tuskegee|   AL|    USA|32.46047167|-85.68003611|\n",
      "| 06C|          Schaumburg|Chicago/Schaumburg|   IL|    USA|41.98934083|-88.10124278|\n",
      "| 06D|     Rolla Municipal|             Rolla|   ND|    USA|48.88434111|-99.62087694|\n",
      "| 06M|    Eupora Municipal|            Eupora|   MS|    USA|33.53456583|-89.31256917|\n",
      "| 06N|            Randall |        Middletown|   NY|    USA|41.43156583|-74.39191722|\n",
      "+----+--------------------+------------------+-----+-------+-----------+------------+\n",
      "only showing top 20 rows\n",
      "\n"
     ]
    }
   ],
   "source": [
    "# DataFrame with new columns\n",
    "airports_data.show()"
   ]
  },
  {
   "cell_type": "code",
   "execution_count": 10,
   "id": "57af8783-d866-4573-9e94-ea25a45bcbb6",
   "metadata": {},
   "outputs": [
    {
     "data": {
      "text/plain": [
       "3376"
      ]
     },
     "execution_count": 10,
     "metadata": {},
     "output_type": "execute_result"
    }
   ],
   "source": [
    "# Count number of records\n",
    "airports_data.count()"
   ]
  },
  {
   "cell_type": "code",
   "execution_count": 11,
   "id": "e0ca32b6-6e28-477b-a076-ee3c5afc2755",
   "metadata": {},
   "outputs": [
    {
     "name": "stdout",
     "output_type": "stream",
     "text": [
      "+-----------+------------+\n",
      "|   latitude|   longitude|\n",
      "+-----------+------------+\n",
      "|31.95376472|-89.23450472|\n",
      "|30.68586111|-95.01792778|\n",
      "|38.94574889|-104.5698933|\n",
      "|42.74134667|-78.05208056|\n",
      "| 30.6880125|-81.90594389|\n",
      "|34.49166667|-88.20111111|\n",
      "|32.85048667|-86.61145333|\n",
      "|   43.08751|-88.17786917|\n",
      "|40.67331278|-80.64140639|\n",
      "|40.44725889|-92.22696056|\n",
      "|33.93011222|-89.34285194|\n",
      "|46.88384889|-96.35089861|\n",
      "|41.51961917|-87.40109333|\n",
      "|31.42127556|-97.79696778|\n",
      "|39.60416667|-116.0050597|\n",
      "|32.46047167|-85.68003611|\n",
      "|41.98934083|-88.10124278|\n",
      "|48.88434111|-99.62087694|\n",
      "|33.53456583|-89.31256917|\n",
      "|41.43156583|-74.39191722|\n",
      "+-----------+------------+\n",
      "only showing top 20 rows\n",
      "\n"
     ]
    }
   ],
   "source": [
    "# Test null in numeric columns\n",
    "double_cols = airports_data.select(['latitude', 'longitude'])\n",
    "double_cols.show()"
   ]
  },
  {
   "cell_type": "code",
   "execution_count": 12,
   "id": "0d818309-6a1c-4486-9edb-799cf5933d5c",
   "metadata": {},
   "outputs": [],
   "source": [
    "double_cols_test_null = double_cols.select([sf.count(sf.when(sf.isnan(c) | sf.col(c).isNull(), c)).alias(c) for c in double_cols.columns])"
   ]
  },
  {
   "cell_type": "code",
   "execution_count": 13,
   "id": "3babec0a-1972-41c1-84e8-df359e6961f4",
   "metadata": {},
   "outputs": [
    {
     "name": "stdout",
     "output_type": "stream",
     "text": [
      "+--------+---------+\n",
      "|latitude|longitude|\n",
      "+--------+---------+\n",
      "|       0|        0|\n",
      "+--------+---------+\n",
      "\n"
     ]
    }
   ],
   "source": [
    "double_cols_test_null.show()"
   ]
  },
  {
   "cell_type": "code",
   "execution_count": 14,
   "id": "df229528-b096-4f08-9955-ac932fafaeb4",
   "metadata": {},
   "outputs": [
    {
     "name": "stdout",
     "output_type": "stream",
     "text": [
      "+----+--------------------+------------------+-----+-------+\n",
      "|IATA|             airport|              city|state|country|\n",
      "+----+--------------------+------------------+-----+-------+\n",
      "| 00M|            Thigpen |       Bay Springs|   MS|    USA|\n",
      "| 00R|Livingston Municipal|        Livingston|   TX|    USA|\n",
      "| 00V|         Meadow Lake|  Colorado Springs|   CO|    USA|\n",
      "| 01G|        Perry-Warsaw|             Perry|   NY|    USA|\n",
      "| 01J|    Hilliard Airpark|          Hilliard|   FL|    USA|\n",
      "| 01M|   Tishomingo County|           Belmont|   MS|    USA|\n",
      "| 02A|         Gragg-Wade |           Clanton|   AL|    USA|\n",
      "| 02C|             Capitol|        Brookfield|   WI|    USA|\n",
      "| 02G|   Columbiana County|    East Liverpool|   OH|    USA|\n",
      "| 03D|    Memphis Memorial|           Memphis|   MO|    USA|\n",
      "| 04M|      Calhoun County|         Pittsboro|   MS|    USA|\n",
      "| 04Y|    Hawley Municipal|            Hawley|   MN|    USA|\n",
      "| 05C|Griffith-Merrillv...|          Griffith|   IN|    USA|\n",
      "| 05F|Gatesville - City...|        Gatesville|   TX|    USA|\n",
      "| 05U|              Eureka|            Eureka|   NV|    USA|\n",
      "| 06A|    Moton  Municipal|          Tuskegee|   AL|    USA|\n",
      "| 06C|          Schaumburg|Chicago/Schaumburg|   IL|    USA|\n",
      "| 06D|     Rolla Municipal|             Rolla|   ND|    USA|\n",
      "| 06M|    Eupora Municipal|            Eupora|   MS|    USA|\n",
      "| 06N|            Randall |        Middletown|   NY|    USA|\n",
      "+----+--------------------+------------------+-----+-------+\n",
      "only showing top 20 rows\n",
      "\n"
     ]
    }
   ],
   "source": [
    "# Test null in string columns\n",
    "string_cols = airports_data.select(['IATA', 'airport', 'city', 'state', 'country'])\n",
    "string_cols.show()"
   ]
  },
  {
   "cell_type": "code",
   "execution_count": 15,
   "id": "710b2ac0-0f44-4d04-bf54-afa89906bc7b",
   "metadata": {},
   "outputs": [],
   "source": [
    "string_cols_test_null = string_cols.select([sf.count(sf.when(sf.col(c).isin(['null', 'NULL', 'NA', 'NaN']) | sf.col(c).isNull(), c)).alias(c) for c in string_cols.columns])"
   ]
  },
  {
   "cell_type": "code",
   "execution_count": 16,
   "id": "6619b72d-976c-4946-a5de-955cfc540a0f",
   "metadata": {},
   "outputs": [
    {
     "name": "stdout",
     "output_type": "stream",
     "text": [
      "+----+-------+----+-----+-------+\n",
      "|IATA|airport|city|state|country|\n",
      "+----+-------+----+-----+-------+\n",
      "|   0|      0|  12|   12|      0|\n",
      "+----+-------+----+-----+-------+\n",
      "\n"
     ]
    }
   ],
   "source": [
    "string_cols_test_null.show()"
   ]
  },
  {
   "cell_type": "code",
   "execution_count": 17,
   "id": "11d0210a-6bb1-4522-9243-facba77c1799",
   "metadata": {},
   "outputs": [
    {
     "name": "stdout",
     "output_type": "stream",
     "text": [
      "+----+--------------------+----+-----+--------------------+---------+-----------+\n",
      "|IATA|             airport|city|state|             country| latitude|  longitude|\n",
      "+----+--------------------+----+-----+--------------------+---------+-----------+\n",
      "| CLD|MC Clellan-Paloma...|  NA|   NA|                 USA|33.127231|-117.278727|\n",
      "| HHH|         Hilton Head|  NA|   NA|                 USA|32.224384| -80.697629|\n",
      "| MIB|           Minot AFB|  NA|   NA|                 USA|48.415769|-101.358039|\n",
      "| MQT|Marquette County ...|  NA|   NA|                 USA|46.353639| -87.395361|\n",
      "| RCA|       Ellsworth AFB|  NA|   NA|                 USA|44.145094|-103.103567|\n",
      "| RDR|     Grand Forks AFB|  NA|   NA|                 USA|47.961167| -97.401167|\n",
      "| ROP|         Prachinburi|  NA|   NA|            Thailand|14.078333| 101.378334|\n",
      "| ROR|    Babelthoup/Koror|  NA|   NA|               Palau| 7.367222| 134.544167|\n",
      "| SCE|     University Park|  NA|   NA|                 USA|40.851206| -77.846302|\n",
      "| SKA|       Fairchild AFB|  NA|   NA|                 USA|47.615058|-117.655803|\n",
      "| SPN|Tinian Internatio...|  NA|   NA|   N Mariana Islands|14.996111| 145.621384|\n",
      "| YAP|   Yap International|  NA|   NA|Federated States ...|   9.5167|      138.1|\n",
      "+----+--------------------+----+-----+--------------------+---------+-----------+\n",
      "\n"
     ]
    }
   ],
   "source": [
    "# Show null values\n",
    "airports_data.filter(sf.col('city').isin(['null', 'NULL', 'NA', 'NaN']) | sf.col('city').isNull()).show()"
   ]
  },
  {
   "cell_type": "code",
   "execution_count": 18,
   "id": "e7c42c2e-dc5a-4825-949d-6e0d9e303f38",
   "metadata": {},
   "outputs": [],
   "source": [
    "# Create mapping to fill in NA values\n",
    "MAPPING = {\"CLD\": [\"San Diego\", \"CA\"], \n",
    "          \"HHH\": [\"Hilton Head Island\", \"SC\"],\n",
    "          \"MIB\": [\"Minot\", \"ND\"],\n",
    "          \"MQT\": [\"Marquette\", \"MI\"], \n",
    "          \"RCA\": [\"Rapid City\", \"SD\"], \n",
    "          \"RDR\": [\"Grand Forks\", \"ND\"],\n",
    "          \"ROP\": [\"Mueang Prachinburi\", \"PC\"],\n",
    "          \"ROR\": [\"Airai\", \"PW350\"],\n",
    "          \"SCE\": [\"State College\", \"PA\"],\n",
    "          \"SKA\": [\"Spokane\", \"WA\"],\n",
    "          \"SPN\": [\"San Jose\", \"TI\"],\n",
    "          \"YAP\": [\"Colonia\", \"FMYAP\"]}"
   ]
  },
  {
   "cell_type": "code",
   "execution_count": 19,
   "id": "9ff44be3-42aa-439b-8319-07ce08a75d81",
   "metadata": {},
   "outputs": [],
   "source": [
    "for key, values in MAPPING.items():\n",
    "    airports_data = airports_data.withColumns({'city': sf.when(sf.col('IATA') == key, values[0]).otherwise(sf.col('city')), 'state': sf.when(sf.col('IATA') == key, values[1]).otherwise(sf.col('state'))})"
   ]
  },
  {
   "cell_type": "code",
   "execution_count": 20,
   "id": "316ec153-25e0-480a-81ad-9cb3b6e219a1",
   "metadata": {},
   "outputs": [
    {
     "name": "stdout",
     "output_type": "stream",
     "text": [
      "+----+-------+----+-----+-------+--------+---------+\n",
      "|IATA|airport|city|state|country|latitude|longitude|\n",
      "+----+-------+----+-----+-------+--------+---------+\n",
      "+----+-------+----+-----+-------+--------+---------+\n",
      "\n"
     ]
    },
    {
     "name": "stderr",
     "output_type": "stream",
     "text": [
      "                                                                                "
     ]
    }
   ],
   "source": [
    "# Check null values after filling NA values\n",
    "airports_data.filter(sf.col('city').isin(['null', 'NULL', 'NA', 'NaN']) | sf.col('city').isNull()).show()"
   ]
  },
  {
   "cell_type": "code",
   "execution_count": 21,
   "id": "244e8b53-20e5-43fc-ba32-39c59de45b76",
   "metadata": {},
   "outputs": [
    {
     "name": "stdout",
     "output_type": "stream",
     "text": [
      "+----+--------------------+---------+-----+-------+---------+-----------+\n",
      "|IATA|             airport|     city|state|country| latitude|  longitude|\n",
      "+----+--------------------+---------+-----+-------+---------+-----------+\n",
      "| CLD|MC Clellan-Paloma...|San Diego|   CA|    USA|33.127231|-117.278727|\n",
      "| ROR|    Babelthoup/Koror|    Airai|PW350|  Palau| 7.367222| 134.544167|\n",
      "+----+--------------------+---------+-----+-------+---------+-----------+\n",
      "\n"
     ]
    }
   ],
   "source": [
    "# Test some filled values\n",
    "airports_data.filter((airports_data.IATA == 'CLD') | (airports_data.IATA == 'ROR')).show()"
   ]
  },
  {
   "cell_type": "code",
   "execution_count": 26,
   "id": "8889aa8f-e6f9-4d21-9b07-d5eae3133731",
   "metadata": {},
   "outputs": [],
   "source": [
    "spark.conf.set('temporaryGcsBucket', 'data_expo_temp_bucket')"
   ]
  },
  {
   "cell_type": "code",
   "execution_count": 27,
   "id": "3feabbff-53a8-435b-ac99-f5c4a34cfcc9",
   "metadata": {},
   "outputs": [],
   "source": [
    "output_dataset = \"data-expo-pipeline.data_expo_dataset.airport_table\""
   ]
  },
  {
   "cell_type": "code",
   "execution_count": 28,
   "id": "c5e7a4ca-dc68-450d-bf1c-88fe9d4ec545",
   "metadata": {},
   "outputs": [
    {
     "name": "stderr",
     "output_type": "stream",
     "text": [
      "                                                                                "
     ]
    }
   ],
   "source": [
    "airports_data.write.format('bigquery').option('table', output_dataset).mode(\"overwrite\").save()"
   ]
  },
  {
   "cell_type": "code",
   "execution_count": 30,
   "id": "835d1846-d58b-4467-b40e-c18eb0f1fb30",
   "metadata": {},
   "outputs": [],
   "source": [
    "# Stop the Spark instance\n",
    "spark.stop()"
   ]
  },
  {
   "cell_type": "code",
   "execution_count": null,
   "id": "6e608e94-672e-4559-bca5-dd5d7abe00c2",
   "metadata": {},
   "outputs": [],
   "source": []
  }
 ],
 "metadata": {
  "kernelspec": {
   "display_name": "Python 3 (ipykernel)",
   "language": "python",
   "name": "python3"
  },
  "language_info": {
   "codemirror_mode": {
    "name": "ipython",
    "version": 3
   },
   "file_extension": ".py",
   "mimetype": "text/x-python",
   "name": "python",
   "nbconvert_exporter": "python",
   "pygments_lexer": "ipython3",
   "version": "3.12.11"
  }
 },
 "nbformat": 4,
 "nbformat_minor": 5
}
