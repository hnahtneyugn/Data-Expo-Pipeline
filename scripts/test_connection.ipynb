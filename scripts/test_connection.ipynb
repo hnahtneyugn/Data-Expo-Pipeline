{
 "cells": [
  {
   "cell_type": "code",
   "execution_count": 1,
   "id": "53fc2d2f-0a14-48ef-acc8-79a6eaf4ab4c",
   "metadata": {},
   "outputs": [],
   "source": [
    "import pyspark\n",
    "from pyspark.sql import SparkSession\n",
    "from pyspark.conf import SparkConf\n",
    "from pyspark.context import SparkContext"
   ]
  },
  {
   "cell_type": "code",
   "execution_count": 2,
   "id": "7243a2f8-7f5d-4c59-8951-b27e21d0d70d",
   "metadata": {},
   "outputs": [
    {
     "name": "stderr",
     "output_type": "stream",
     "text": [
      "WARNING: Using incubator modules: jdk.incubator.vector\n",
      "25/08/08 04:07:14 WARN NativeCodeLoader: Unable to load native-hadoop library for your platform... using builtin-java classes where applicable\n",
      "Using Spark's default log4j profile: org/apache/spark/log4j2-defaults.properties\n",
      "Setting default log level to \"WARN\".\n",
      "To adjust logging level use sc.setLogLevel(newLevel). For SparkR, use setLogLevel(newLevel).\n"
     ]
    }
   ],
   "source": [
    "spark = SparkSession \\\n",
    "        .builder \\\n",
    "        .master(\"spark://spark-master:7077\") \\\n",
    "        .config(\"spark.jars\", \"/usr/local/spark/jars/gcs-connector-hadoop3-latest.jar\") \\\n",
    "        .appName('gcs-pyspark') \\\n",
    "        .getOrCreate()"
   ]
  },
  {
   "cell_type": "code",
   "execution_count": 3,
   "id": "6a5c4f64-6c4e-4014-96e8-a761dcfad608",
   "metadata": {},
   "outputs": [],
   "source": [
    "spark._jsc.hadoopConfiguration().set('fs.gs.impl', 'com.google.cloud.hadoop.fs.gcs.GoogleHadoopFileSystem')\n",
    "spark._jsc.hadoopConfiguration().set('fs.gs.auth.service.account.enable', 'true')\n",
    "spark._jsc.hadoopConfiguration().set('google.cloud.auth.service.account.json.keyfile', \"/opt/keys/credentials.json\")"
   ]
  },
  {
   "cell_type": "code",
   "execution_count": 4,
   "id": "2b02e0e4-56b9-4102-a316-d0f62edf267a",
   "metadata": {},
   "outputs": [],
   "source": [
    "bucket_name = \"data_expo_bucket\"\n",
    "file_name = \"plane_data.csv\"\n",
    "file_path = f\"gs://{bucket_name}/{file_name}\""
   ]
  },
  {
   "cell_type": "code",
   "execution_count": 5,
   "id": "bc881b95-a627-447e-be40-04e3d9117501",
   "metadata": {},
   "outputs": [
    {
     "name": "stderr",
     "output_type": "stream",
     "text": [
      "                                                                                "
     ]
    }
   ],
   "source": [
    "df = spark.read.option(\"inferSchema\", \"true\").option(\"header\", \"true\").csv(file_path)"
   ]
  },
  {
   "cell_type": "code",
   "execution_count": 6,
   "id": "826f72e7-b5f2-4ab3-b01e-e87dde20fcd2",
   "metadata": {},
   "outputs": [
    {
     "data": {
      "text/plain": [
       "5029"
      ]
     },
     "execution_count": 6,
     "metadata": {},
     "output_type": "execute_result"
    }
   ],
   "source": [
    "df.count()"
   ]
  },
  {
   "cell_type": "code",
   "execution_count": 7,
   "id": "7faa4fbc-ab28-4767-8732-f61134f4779f",
   "metadata": {},
   "outputs": [],
   "source": [
    "df_zones = spark.read.option(\"inferSchema\", \"true\").option(\"header\", \"true\").csv(\"gs://data_expo_bucket/taxi_zone_lookup.csv\")"
   ]
  },
  {
   "cell_type": "code",
   "execution_count": 10,
   "id": "c5079e94-cdf4-4afd-acdd-7afa2be2f6dc",
   "metadata": {},
   "outputs": [
    {
     "name": "stdout",
     "output_type": "stream",
     "text": [
      "+----------+-------------+--------------------+------------+\n",
      "|LocationID|      Borough|                Zone|service_zone|\n",
      "+----------+-------------+--------------------+------------+\n",
      "|         1|          EWR|      Newark Airport|         EWR|\n",
      "|         2|       Queens|         Jamaica Bay|   Boro Zone|\n",
      "|         3|        Bronx|Allerton/Pelham G...|   Boro Zone|\n",
      "|         4|    Manhattan|       Alphabet City| Yellow Zone|\n",
      "|         5|Staten Island|       Arden Heights|   Boro Zone|\n",
      "|         6|Staten Island|Arrochar/Fort Wad...|   Boro Zone|\n",
      "|         7|       Queens|             Astoria|   Boro Zone|\n",
      "|         8|       Queens|        Astoria Park|   Boro Zone|\n",
      "|         9|       Queens|          Auburndale|   Boro Zone|\n",
      "|        10|       Queens|        Baisley Park|   Boro Zone|\n",
      "+----------+-------------+--------------------+------------+\n",
      "only showing top 10 rows\n"
     ]
    }
   ],
   "source": [
    "df_zones.show(10)"
   ]
  },
  {
   "cell_type": "code",
   "execution_count": 11,
   "id": "e5b13be0-9430-46f1-acc7-db343a67eb29",
   "metadata": {},
   "outputs": [],
   "source": [
    "spark.stop()"
   ]
  },
  {
   "cell_type": "code",
   "execution_count": null,
   "id": "9c193637-3762-44fd-8c93-a559f8ccb627",
   "metadata": {},
   "outputs": [],
   "source": []
  }
 ],
 "metadata": {
  "kernelspec": {
   "display_name": "Python 3 (ipykernel)",
   "language": "python",
   "name": "python3"
  },
  "language_info": {
   "codemirror_mode": {
    "name": "ipython",
    "version": 3
   },
   "file_extension": ".py",
   "mimetype": "text/x-python",
   "name": "python",
   "nbconvert_exporter": "python",
   "pygments_lexer": "ipython3",
   "version": "3.12.11"
  }
 },
 "nbformat": 4,
 "nbformat_minor": 5
}
