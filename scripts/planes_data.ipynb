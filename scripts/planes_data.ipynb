{
 "cells": [
  {
   "cell_type": "code",
   "execution_count": 1,
   "id": "b3f7871d-c692-45ab-88ee-5e0032a95105",
   "metadata": {},
   "outputs": [],
   "source": [
    "import pyspark\n",
    "from pyspark.sql import SparkSession\n",
    "from pyspark.conf import SparkConf\n",
    "from pyspark.context import SparkContext\n",
    "from pyspark.sql import functions as sf"
   ]
  },
  {
   "cell_type": "code",
   "execution_count": 2,
   "id": "deb9869e-5653-4c97-9074-ff3d82056f03",
   "metadata": {},
   "outputs": [
    {
     "name": "stderr",
     "output_type": "stream",
     "text": [
      "25/08/12 13:34:38 WARN NativeCodeLoader: Unable to load native-hadoop library for your platform... using builtin-java classes where applicable\n",
      "Setting default log level to \"WARN\".\n",
      "To adjust logging level use sc.setLogLevel(newLevel). For SparkR, use setLogLevel(newLevel).\n"
     ]
    }
   ],
   "source": [
    "spark = SparkSession \\\n",
    "        .builder \\\n",
    "        .master(\"spark://spark-master:7077\") \\\n",
    "        .config(\n",
    "        \"spark.jars\",\n",
    "        \"/opt/bitnami/spark/jars/gcs-connector-hadoop3-latest.jar,\"\n",
    "        \"/opt/bitnami/spark/jars/spark-bigquery-with-dependencies_2.12-0.42.4.jar\"\n",
    "        ) \\\n",
    "        .appName('gcs-bq-pyspark') \\\n",
    "        .getOrCreate()"
   ]
  },
  {
   "cell_type": "code",
   "execution_count": 3,
   "id": "d74afcc1-4505-46fd-8444-57e5c01939ff",
   "metadata": {},
   "outputs": [],
   "source": [
    "spark.sparkContext.setLogLevel(\"WARN\")\n",
    "\n",
    "spark._jsc.hadoopConfiguration().set('fs.gs.impl', 'com.google.cloud.hadoop.fs.gcs.GoogleHadoopFileSystem')\n",
    "spark._jsc.hadoopConfiguration().set('fs.gs.auth.service.account.enable', 'true')\n",
    "spark._jsc.hadoopConfiguration().set('google.cloud.auth.service.account.json.keyfile', \"/opt/keys/credentials.json\")"
   ]
  },
  {
   "cell_type": "code",
   "execution_count": 4,
   "id": "a3c32154-4f9f-4851-ae99-baf312a20d75",
   "metadata": {},
   "outputs": [],
   "source": [
    "# File information\n",
    "bucket_name = \"data_expo_bucket\"\n",
    "file_name = \"plane_data.csv\"\n",
    "file_path = f\"gs://{bucket_name}/{file_name}\""
   ]
  },
  {
   "cell_type": "code",
   "execution_count": 113,
   "id": "8ccf5413-05cf-427d-a59e-15d82b0dd667",
   "metadata": {},
   "outputs": [
    {
     "name": "stderr",
     "output_type": "stream",
     "text": [
      "                                                                                "
     ]
    }
   ],
   "source": [
    "# Read CSV file\n",
    "planes_data = spark.read.option(\"inferSchema\", \"true\").option(\"header\", \"true\").csv(file_path)"
   ]
  },
  {
   "cell_type": "code",
   "execution_count": 114,
   "id": "31bc8e96-5e71-494f-a9de-06221e6fe28e",
   "metadata": {},
   "outputs": [
    {
     "name": "stdout",
     "output_type": "stream",
     "text": [
      "+-------+----+------------+----------+-----+------+-------------+-----------+----+\n",
      "|tailnum|type|manufacturer|issue_date|model|status|aircraft_type|engine_type|year|\n",
      "+-------+----+------------+----------+-----+------+-------------+-----------+----+\n",
      "| N050AA|NULL|        NULL|      NULL| NULL|  NULL|         NULL|       NULL|NULL|\n",
      "| N051AA|NULL|        NULL|      NULL| NULL|  NULL|         NULL|       NULL|NULL|\n",
      "| N052AA|NULL|        NULL|      NULL| NULL|  NULL|         NULL|       NULL|NULL|\n",
      "| N054AA|NULL|        NULL|      NULL| NULL|  NULL|         NULL|       NULL|NULL|\n",
      "| N055AA|NULL|        NULL|      NULL| NULL|  NULL|         NULL|       NULL|NULL|\n",
      "| N056AA|NULL|        NULL|      NULL| NULL|  NULL|         NULL|       NULL|NULL|\n",
      "| N057AA|NULL|        NULL|      NULL| NULL|  NULL|         NULL|       NULL|NULL|\n",
      "| N058AA|NULL|        NULL|      NULL| NULL|  NULL|         NULL|       NULL|NULL|\n",
      "| N059AA|NULL|        NULL|      NULL| NULL|  NULL|         NULL|       NULL|NULL|\n",
      "| N060AA|NULL|        NULL|      NULL| NULL|  NULL|         NULL|       NULL|NULL|\n",
      "| N061AA|NULL|        NULL|      NULL| NULL|  NULL|         NULL|       NULL|NULL|\n",
      "| N062AA|NULL|        NULL|      NULL| NULL|  NULL|         NULL|       NULL|NULL|\n",
      "| N063AA|NULL|        NULL|      NULL| NULL|  NULL|         NULL|       NULL|NULL|\n",
      "| N064AA|NULL|        NULL|      NULL| NULL|  NULL|         NULL|       NULL|NULL|\n",
      "| N065AA|NULL|        NULL|      NULL| NULL|  NULL|         NULL|       NULL|NULL|\n",
      "| N066AA|NULL|        NULL|      NULL| NULL|  NULL|         NULL|       NULL|NULL|\n",
      "| N067AA|NULL|        NULL|      NULL| NULL|  NULL|         NULL|       NULL|NULL|\n",
      "| N068AA|NULL|        NULL|      NULL| NULL|  NULL|         NULL|       NULL|NULL|\n",
      "| N069AA|NULL|        NULL|      NULL| NULL|  NULL|         NULL|       NULL|NULL|\n",
      "| N070AA|NULL|        NULL|      NULL| NULL|  NULL|         NULL|       NULL|NULL|\n",
      "+-------+----+------------+----------+-----+------+-------------+-----------+----+\n",
      "only showing top 20 rows\n",
      "\n"
     ]
    }
   ],
   "source": [
    "# Show the data\n",
    "planes_data.show()"
   ]
  },
  {
   "cell_type": "code",
   "execution_count": 115,
   "id": "53253b64-57b5-40f4-a741-0dacfbaa4a61",
   "metadata": {},
   "outputs": [
    {
     "data": {
      "text/plain": [
       "StructType([StructField('tailnum', StringType(), True), StructField('type', StringType(), True), StructField('manufacturer', StringType(), True), StructField('issue_date', StringType(), True), StructField('model', StringType(), True), StructField('status', StringType(), True), StructField('aircraft_type', StringType(), True), StructField('engine_type', StringType(), True), StructField('year', StringType(), True)])"
      ]
     },
     "execution_count": 115,
     "metadata": {},
     "output_type": "execute_result"
    }
   ],
   "source": [
    "# Read file schema\n",
    "planes_data.schema"
   ]
  },
  {
   "cell_type": "code",
   "execution_count": 116,
   "id": "9390bb9a-d806-404d-92ac-8dac6b5f47fe",
   "metadata": {},
   "outputs": [
    {
     "data": {
      "text/plain": [
       "5029"
      ]
     },
     "execution_count": 116,
     "metadata": {},
     "output_type": "execute_result"
    }
   ],
   "source": [
    "# Count number of records\n",
    "planes_data.count()"
   ]
  },
  {
   "cell_type": "code",
   "execution_count": 117,
   "id": "521e592d-a973-4cc7-aef1-d2eb592bb375",
   "metadata": {},
   "outputs": [],
   "source": [
    "# Check the number of null in each column\n",
    "planes_data_test_null = planes_data.select([sf.count(sf.when(sf.col(c).isin(['null', 'NULL', 'NA', 'NaN']) | sf.col(c).isNull(), c)).alias(c) for c in planes_data.columns])"
   ]
  },
  {
   "cell_type": "code",
   "execution_count": 118,
   "id": "400278d1-b802-44ac-b9e4-ca7c21d69d4e",
   "metadata": {},
   "outputs": [
    {
     "name": "stdout",
     "output_type": "stream",
     "text": [
      "+-------+----+------------+----------+-----+------+-------------+-----------+----+\n",
      "|tailnum|type|manufacturer|issue_date|model|status|aircraft_type|engine_type|year|\n",
      "+-------+----+------------+----------+-----+------+-------------+-----------+----+\n",
      "|      0| 549|         549|       549|  549|   549|          549|        549| 549|\n",
      "+-------+----+------------+----------+-----+------+-------------+-----------+----+\n",
      "\n"
     ]
    }
   ],
   "source": [
    "planes_data_test_null.show()"
   ]
  },
  {
   "cell_type": "code",
   "execution_count": 119,
   "id": "11d04324-630f-4317-b7ec-f6732a5ac152",
   "metadata": {},
   "outputs": [],
   "source": [
    "# Filter NULL values and show result\n",
    "planes_data = planes_data.filter(planes_data.type.isNotNull())"
   ]
  },
  {
   "cell_type": "code",
   "execution_count": 120,
   "id": "6f429a5d-be82-443c-86dc-d29f5d999679",
   "metadata": {},
   "outputs": [
    {
     "name": "stdout",
     "output_type": "stream",
     "text": [
      "+-------+-----------+----------------+----------+---------+------+-----------------------+-----------+----+\n",
      "|tailnum|type       |manufacturer    |issue_date|model    |status|aircraft_type          |engine_type|year|\n",
      "+-------+-----------+----------------+----------+---------+------+-----------------------+-----------+----+\n",
      "|N10156 |Corporation|EMBRAER         |02/13/2004|EMB-145XR|Valid |Fixed Wing Multi-Engine|Turbo-Fan  |2004|\n",
      "|N102UW |Corporation|AIRBUS INDUSTRIE|05/26/1999|A320-214 |Valid |Fixed Wing Multi-Engine|Turbo-Fan  |1998|\n",
      "|N10323 |Corporation|BOEING          |07/01/1997|737-3TO  |Valid |Fixed Wing Multi-Engine|Turbo-Jet  |1986|\n",
      "|N103US |Corporation|AIRBUS INDUSTRIE|06/18/1999|A320-214 |Valid |Fixed Wing Multi-Engine|Turbo-Fan  |1999|\n",
      "|N104UA |Corporation|BOEING          |01/26/1998|747-422  |Valid |Fixed Wing Multi-Engine|Turbo-Fan  |1998|\n",
      "|N104UW |Corporation|AIRBUS INDUSTRIE|07/02/1999|A320-214 |Valid |Fixed Wing Multi-Engine|Turbo-Fan  |1999|\n",
      "|N10575 |Corporation|EMBRAER         |06/24/2003|EMB-145LR|Valid |Fixed Wing Multi-Engine|Turbo-Fan  |2002|\n",
      "|N105UA |Corporation|BOEING          |10/15/2007|747-451  |Valid |Fixed Wing Multi-Engine|Turbo-Jet  |1994|\n",
      "|N105UW |Corporation|AIRBUS INDUSTRIE|07/22/1999|A320-214 |Valid |Fixed Wing Multi-Engine|Turbo-Fan  |1999|\n",
      "|N106US |Corporation|AIRBUS INDUSTRIE|08/05/1999|A320-214 |Valid |Fixed Wing Multi-Engine|Turbo-Fan  |1999|\n",
      "|N107UA |Corporation|BOEING          |08/24/1998|747-422  |Valid |Fixed Wing Multi-Engine|Turbo-Fan  |1998|\n",
      "|N107US |Corporation|AIRBUS INDUSTRIE|08/17/1999|A320-214 |Valid |Fixed Wing Multi-Engine|Turbo-Fan  |1999|\n",
      "|N108UW |Corporation|AIRBUS INDUSTRIE|09/03/1999|A320-214 |Valid |Fixed Wing Multi-Engine|Turbo-Fan  |1999|\n",
      "|N109UW |Corporation|AIRBUS INDUSTRIE|09/10/1999|A320-214 |Valid |Fixed Wing Multi-Engine|Turbo-Fan  |1999|\n",
      "|N110UW |Corporation|AIRBUS INDUSTRIE|11/22/1999|A320-214 |Valid |Fixed Wing Multi-Engine|Turbo-Fan  |1999|\n",
      "|N11106 |Corporation|EMBRAER         |06/25/2003|EMB-145XR|Valid |Fixed Wing Multi-Engine|Turbo-Fan  |2002|\n",
      "|N11107 |Corporation|EMBRAER         |06/25/2003|EMB-145XR|Valid |Fixed Wing Multi-Engine|Turbo-Fan  |2002|\n",
      "|N11109 |Corporation|EMBRAER         |06/25/2003|EMB-145XR|Valid |Fixed Wing Multi-Engine|Turbo-Fan  |2002|\n",
      "|N11113 |Corporation|EMBRAER         |06/25/2003|EMB-145XR|Valid |Fixed Wing Multi-Engine|Turbo-Fan  |2002|\n",
      "|N11119 |Corporation|EMBRAER         |01/08/2003|EMB-145XR|Valid |Fixed Wing Multi-Engine|Turbo-Fan  |2002|\n",
      "+-------+-----------+----------------+----------+---------+------+-----------------------+-----------+----+\n",
      "only showing top 20 rows\n",
      "\n"
     ]
    }
   ],
   "source": [
    "planes_data.show(truncate=False)"
   ]
  },
  {
   "cell_type": "code",
   "execution_count": 121,
   "id": "bbe46988-6069-4926-9c15-5afa94c2d024",
   "metadata": {},
   "outputs": [
    {
     "name": "stdout",
     "output_type": "stream",
     "text": [
      "+-------+----+------------+----------+-----+------+-------------+-----------+----+\n",
      "|tailnum|type|manufacturer|issue_date|model|status|aircraft_type|engine_type|year|\n",
      "+-------+----+------------+----------+-----+------+-------------+-----------+----+\n",
      "|      0|   0|           0|         0|    0|     0|            0|          0|   0|\n",
      "+-------+----+------------+----------+-----+------+-------------+-----------+----+\n",
      "\n"
     ]
    }
   ],
   "source": [
    "# Check number of NULL values after removing them\n",
    "planes_data.select([sf.count(sf.when(sf.col(c).isin(['null', 'NULL', 'NA', 'NaN']) | sf.col(c).isNull(), c)).alias(c) for c in planes_data.columns]).show()"
   ]
  },
  {
   "cell_type": "code",
   "execution_count": 122,
   "id": "89618632-d162-4dbf-a169-7f56d0140f3e",
   "metadata": {},
   "outputs": [
    {
     "data": {
      "text/plain": [
       "4480"
      ]
     },
     "execution_count": 122,
     "metadata": {},
     "output_type": "execute_result"
    }
   ],
   "source": [
    "# Check number of records after removing NULL values\n",
    "planes_data.count()"
   ]
  },
  {
   "cell_type": "code",
   "execution_count": 123,
   "id": "31003d26-c966-43a6-a0af-3b4774c83ec5",
   "metadata": {},
   "outputs": [
    {
     "name": "stdout",
     "output_type": "stream",
     "text": [
      "+--------------+\n",
      "|count(tailnum)|\n",
      "+--------------+\n",
      "|          4480|\n",
      "+--------------+\n",
      "\n"
     ]
    }
   ],
   "source": [
    "# Check unique tailnum values\n",
    "planes_data.select(sf.count(sf.col('tailnum'))).show()"
   ]
  },
  {
   "cell_type": "code",
   "execution_count": 125,
   "id": "c7e0b9bd-ba22-41c7-8582-ea5a93ab2894",
   "metadata": {},
   "outputs": [],
   "source": [
    "# Convert columns to suitable data type\n",
    "planes_data = planes_data.withColumns({'issue_date': sf.to_date(planes_data.issue_date, \"MM/dd/yyyy\"), 'year': sf.col('year').cast('int')})"
   ]
  },
  {
   "cell_type": "code",
   "execution_count": 126,
   "id": "71d58b48-0d32-4a2b-a383-1489674db131",
   "metadata": {},
   "outputs": [
    {
     "name": "stdout",
     "output_type": "stream",
     "text": [
      "+-------+-----------+----------------+----------+---------+------+-----------------------+-----------+----+\n",
      "|tailnum|type       |manufacturer    |issue_date|model    |status|aircraft_type          |engine_type|year|\n",
      "+-------+-----------+----------------+----------+---------+------+-----------------------+-----------+----+\n",
      "|N10156 |Corporation|EMBRAER         |2004-02-13|EMB-145XR|Valid |Fixed Wing Multi-Engine|Turbo-Fan  |2004|\n",
      "|N102UW |Corporation|AIRBUS INDUSTRIE|1999-05-26|A320-214 |Valid |Fixed Wing Multi-Engine|Turbo-Fan  |1998|\n",
      "|N10323 |Corporation|BOEING          |1997-07-01|737-3TO  |Valid |Fixed Wing Multi-Engine|Turbo-Jet  |1986|\n",
      "|N103US |Corporation|AIRBUS INDUSTRIE|1999-06-18|A320-214 |Valid |Fixed Wing Multi-Engine|Turbo-Fan  |1999|\n",
      "|N104UA |Corporation|BOEING          |1998-01-26|747-422  |Valid |Fixed Wing Multi-Engine|Turbo-Fan  |1998|\n",
      "|N104UW |Corporation|AIRBUS INDUSTRIE|1999-07-02|A320-214 |Valid |Fixed Wing Multi-Engine|Turbo-Fan  |1999|\n",
      "|N10575 |Corporation|EMBRAER         |2003-06-24|EMB-145LR|Valid |Fixed Wing Multi-Engine|Turbo-Fan  |2002|\n",
      "|N105UA |Corporation|BOEING          |2007-10-15|747-451  |Valid |Fixed Wing Multi-Engine|Turbo-Jet  |1994|\n",
      "|N105UW |Corporation|AIRBUS INDUSTRIE|1999-07-22|A320-214 |Valid |Fixed Wing Multi-Engine|Turbo-Fan  |1999|\n",
      "|N106US |Corporation|AIRBUS INDUSTRIE|1999-08-05|A320-214 |Valid |Fixed Wing Multi-Engine|Turbo-Fan  |1999|\n",
      "|N107UA |Corporation|BOEING          |1998-08-24|747-422  |Valid |Fixed Wing Multi-Engine|Turbo-Fan  |1998|\n",
      "|N107US |Corporation|AIRBUS INDUSTRIE|1999-08-17|A320-214 |Valid |Fixed Wing Multi-Engine|Turbo-Fan  |1999|\n",
      "|N108UW |Corporation|AIRBUS INDUSTRIE|1999-09-03|A320-214 |Valid |Fixed Wing Multi-Engine|Turbo-Fan  |1999|\n",
      "|N109UW |Corporation|AIRBUS INDUSTRIE|1999-09-10|A320-214 |Valid |Fixed Wing Multi-Engine|Turbo-Fan  |1999|\n",
      "|N110UW |Corporation|AIRBUS INDUSTRIE|1999-11-22|A320-214 |Valid |Fixed Wing Multi-Engine|Turbo-Fan  |1999|\n",
      "|N11106 |Corporation|EMBRAER         |2003-06-25|EMB-145XR|Valid |Fixed Wing Multi-Engine|Turbo-Fan  |2002|\n",
      "|N11107 |Corporation|EMBRAER         |2003-06-25|EMB-145XR|Valid |Fixed Wing Multi-Engine|Turbo-Fan  |2002|\n",
      "|N11109 |Corporation|EMBRAER         |2003-06-25|EMB-145XR|Valid |Fixed Wing Multi-Engine|Turbo-Fan  |2002|\n",
      "|N11113 |Corporation|EMBRAER         |2003-06-25|EMB-145XR|Valid |Fixed Wing Multi-Engine|Turbo-Fan  |2002|\n",
      "|N11119 |Corporation|EMBRAER         |2003-01-08|EMB-145XR|Valid |Fixed Wing Multi-Engine|Turbo-Fan  |2002|\n",
      "+-------+-----------+----------------+----------+---------+------+-----------------------+-----------+----+\n",
      "only showing top 20 rows\n",
      "\n"
     ]
    }
   ],
   "source": [
    "planes_data.show(truncate=False)"
   ]
  },
  {
   "cell_type": "code",
   "execution_count": 128,
   "id": "6991ed52-faa4-442e-8cdb-1a1eaa5a0d72",
   "metadata": {},
   "outputs": [
    {
     "data": {
      "text/plain": [
       "StructType([StructField('tailnum', StringType(), True), StructField('type', StringType(), True), StructField('manufacturer', StringType(), True), StructField('issue_date', DateType(), True), StructField('model', StringType(), True), StructField('status', StringType(), True), StructField('aircraft_type', StringType(), True), StructField('engine_type', StringType(), True), StructField('year', IntegerType(), True)])"
      ]
     },
     "execution_count": 128,
     "metadata": {},
     "output_type": "execute_result"
    }
   ],
   "source": [
    "# Check schema after type casting\n",
    "planes_data.schema"
   ]
  },
  {
   "cell_type": "code",
   "execution_count": 130,
   "id": "07f88766-ce26-48b5-b539-175126711de6",
   "metadata": {},
   "outputs": [],
   "source": [
    "# Clean data, can be uploaded to BigQuery as Table\n",
    "spark.conf.set('temporaryGcsBucket', 'data_expo_temp_bucket')\n",
    "output_dataset = \"data-expo-pipeline.data_expo_dataset.plane_table\""
   ]
  },
  {
   "cell_type": "code",
   "execution_count": 131,
   "id": "ef7a4f42-7ee6-46e3-ad47-edf1d431fd1d",
   "metadata": {},
   "outputs": [
    {
     "name": "stderr",
     "output_type": "stream",
     "text": [
      "                                                                                "
     ]
    }
   ],
   "source": [
    "planes_data.write.format('bigquery').option('table', output_dataset).mode(\"overwrite\").save()"
   ]
  },
  {
   "cell_type": "code",
   "execution_count": 132,
   "id": "ce06ed3b-6ca1-4749-95c0-7b0f00a7bd6a",
   "metadata": {},
   "outputs": [],
   "source": [
    "spark.stop()"
   ]
  },
  {
   "cell_type": "code",
   "execution_count": null,
   "id": "49cd3074-e3c6-45ba-a8d2-504197d228c1",
   "metadata": {},
   "outputs": [],
   "source": []
  }
 ],
 "metadata": {
  "kernelspec": {
   "display_name": "Python 3 (ipykernel)",
   "language": "python",
   "name": "python3"
  },
  "language_info": {
   "codemirror_mode": {
    "name": "ipython",
    "version": 3
   },
   "file_extension": ".py",
   "mimetype": "text/x-python",
   "name": "python",
   "nbconvert_exporter": "python",
   "pygments_lexer": "ipython3",
   "version": "3.12.11"
  }
 },
 "nbformat": 4,
 "nbformat_minor": 5
}
