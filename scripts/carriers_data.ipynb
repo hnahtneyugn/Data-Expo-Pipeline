{
 "cells": [
  {
   "cell_type": "code",
   "execution_count": 1,
   "id": "3ef20015-4599-4e95-a1d4-1bceea370ae9",
   "metadata": {},
   "outputs": [],
   "source": [
    "import pyspark\n",
    "from pyspark.sql import SparkSession\n",
    "from pyspark.conf import SparkConf\n",
    "from pyspark.context import SparkContext\n",
    "from pyspark.sql import functions as sf"
   ]
  },
  {
   "cell_type": "code",
   "execution_count": 2,
   "id": "db0f0505-be45-463d-8ec7-f6b006afdafd",
   "metadata": {},
   "outputs": [
    {
     "name": "stderr",
     "output_type": "stream",
     "text": [
      "25/08/12 09:39:25 WARN NativeCodeLoader: Unable to load native-hadoop library for your platform... using builtin-java classes where applicable\n",
      "Setting default log level to \"WARN\".\n",
      "To adjust logging level use sc.setLogLevel(newLevel). For SparkR, use setLogLevel(newLevel).\n"
     ]
    }
   ],
   "source": [
    "spark = SparkSession \\\n",
    "        .builder \\\n",
    "        .master(\"spark://spark-master:7077\") \\\n",
    "        .config(\n",
    "        \"spark.jars\",\n",
    "        \"/opt/bitnami/spark/jars/gcs-connector-hadoop3-latest.jar,\"\n",
    "        \"/opt/bitnami/spark/jars/spark-bigquery-with-dependencies_2.12-0.42.4.jar\"\n",
    "        ) \\\n",
    "        .appName('gcs-bq-pyspark') \\\n",
    "        .getOrCreate()"
   ]
  },
  {
   "cell_type": "code",
   "execution_count": 3,
   "id": "28730a04-6369-4700-a604-63ea737f2111",
   "metadata": {},
   "outputs": [],
   "source": [
    "spark.sparkContext.setLogLevel(\"WARN\")\n",
    "\n",
    "spark._jsc.hadoopConfiguration().set('fs.gs.impl', 'com.google.cloud.hadoop.fs.gcs.GoogleHadoopFileSystem')\n",
    "spark._jsc.hadoopConfiguration().set('fs.gs.auth.service.account.enable', 'true')\n",
    "spark._jsc.hadoopConfiguration().set('google.cloud.auth.service.account.json.keyfile', \"/opt/keys/credentials.json\")"
   ]
  },
  {
   "cell_type": "code",
   "execution_count": 4,
   "id": "3edbee26-deee-4f04-9b2e-9eb007bdc4d5",
   "metadata": {},
   "outputs": [],
   "source": [
    "# File information\n",
    "bucket_name = \"data_expo_bucket\"\n",
    "file_name = \"carriers_data.csv\"\n",
    "file_path = f\"gs://{bucket_name}/{file_name}\""
   ]
  },
  {
   "cell_type": "code",
   "execution_count": 5,
   "id": "15698127-b1f4-4d9e-ac1c-a6533e26c66f",
   "metadata": {},
   "outputs": [
    {
     "name": "stderr",
     "output_type": "stream",
     "text": [
      "                                                                                "
     ]
    }
   ],
   "source": [
    "# Read CSV file\n",
    "carriers_data = spark.read.option(\"inferSchema\", \"true\").option(\"header\", \"true\").csv(file_path)"
   ]
  },
  {
   "cell_type": "code",
   "execution_count": 13,
   "id": "c1a3d6fd-dab1-4f5d-96c9-6ed7155552a6",
   "metadata": {},
   "outputs": [
    {
     "name": "stdout",
     "output_type": "stream",
     "text": [
      "+----+--------------------------------------------+\n",
      "|Code|Description                                 |\n",
      "+----+--------------------------------------------+\n",
      "|02Q |Titan Airways                               |\n",
      "|04Q |Tradewind Aviation                          |\n",
      "|05Q |Comlux Aviation, AG                         |\n",
      "|06Q |Master Top Linhas Aereas Ltd.               |\n",
      "|07Q |Flair Airlines Ltd.                         |\n",
      "|09Q |Swift Air, LLC                              |\n",
      "|0BQ |DCA                                         |\n",
      "|0CQ |ACM AIR CHARTER GmbH                        |\n",
      "|0FQ |Maine Aviation Aircraft Charter, LLC        |\n",
      "|0GQ |Inter Island Airways, d/b/a Inter Island Air|\n",
      "|0HQ |Polar Airlines de Mexico d/b/a Nova Air     |\n",
      "|0J  |JetClub AG                                  |\n",
      "|0JQ |Vision Airlines                             |\n",
      "|0KQ |Mokulele Flight Services, Inc.              |\n",
      "|0LQ |Metropix UK, LLP.                           |\n",
      "|0MQ |Multi-Aero, Inc. d/b/a Air Choice One       |\n",
      "|0Q  |Flying Service N.V.                         |\n",
      "|16  |PSA Airlines Inc.                           |\n",
      "|17  |Piedmont Airlines                           |\n",
      "|1I  |Sky Trek Int'l Airlines                     |\n",
      "+----+--------------------------------------------+\n",
      "only showing top 20 rows\n",
      "\n"
     ]
    }
   ],
   "source": [
    "# show the data\n",
    "carriers_data.show(truncate=False)"
   ]
  },
  {
   "cell_type": "code",
   "execution_count": 25,
   "id": "eb964ba8-fd3e-4b4d-83ae-5d60f2961f8d",
   "metadata": {},
   "outputs": [
    {
     "data": {
      "text/plain": [
       "1491"
      ]
     },
     "execution_count": 25,
     "metadata": {},
     "output_type": "execute_result"
    }
   ],
   "source": [
    "# Count number of records\n",
    "carriers_data.count()"
   ]
  },
  {
   "cell_type": "code",
   "execution_count": 26,
   "id": "0e01a24e-f82b-467d-add8-3d78c64286a7",
   "metadata": {},
   "outputs": [
    {
     "name": "stdout",
     "output_type": "stream",
     "text": [
      "+-----------+\n",
      "|count(Code)|\n",
      "+-----------+\n",
      "|       1491|\n",
      "+-----------+\n",
      "\n"
     ]
    }
   ],
   "source": [
    "# Count number of unique carrier code\n",
    "carriers_data.select(sf.count(sf.col(\"Code\"))).show()"
   ]
  },
  {
   "cell_type": "code",
   "execution_count": 23,
   "id": "df54358b-de3c-48f0-b13d-40945d54e241",
   "metadata": {},
   "outputs": [
    {
     "data": {
      "text/plain": [
       "StructType([StructField('Code', StringType(), True), StructField('Description', StringType(), True)])"
      ]
     },
     "execution_count": 23,
     "metadata": {},
     "output_type": "execute_result"
    }
   ],
   "source": [
    "# Read file schema\n",
    "carriers_data.schema"
   ]
  },
  {
   "cell_type": "code",
   "execution_count": 24,
   "id": "16999fec-f73f-4d44-a1c7-af490b16eb36",
   "metadata": {},
   "outputs": [],
   "source": [
    "# Test null values\n",
    "carriers_data_test_null = carriers_data.select([sf.count(sf.when(sf.col(c).isin(['null', 'NULL', 'NA', 'NaN']) | sf.col(c).isNull(), c)).alias(c) for c in carriers_data.columns])"
   ]
  },
  {
   "cell_type": "code",
   "execution_count": 19,
   "id": "62b6cb22-6b0a-481c-b507-14cface755e1",
   "metadata": {},
   "outputs": [
    {
     "name": "stdout",
     "output_type": "stream",
     "text": [
      "+----+-----------+\n",
      "|Code|Description|\n",
      "+----+-----------+\n",
      "|   1|          0|\n",
      "+----+-----------+\n",
      "\n"
     ]
    }
   ],
   "source": [
    "carriers_data_test_null.show()"
   ]
  },
  {
   "cell_type": "code",
   "execution_count": 20,
   "id": "9c33d6b5-4c1e-4a18-8d8c-2307e83092d9",
   "metadata": {},
   "outputs": [
    {
     "name": "stdout",
     "output_type": "stream",
     "text": [
      "+----+-----------------------+\n",
      "|Code|Description            |\n",
      "+----+-----------------------+\n",
      "|NA  |North American Airlines|\n",
      "+----+-----------------------+\n",
      "\n"
     ]
    },
    {
     "name": "stderr",
     "output_type": "stream",
     "text": [
      "                                                                                "
     ]
    }
   ],
   "source": [
    "# NA here can be a specific carrier code\n",
    "carriers_data.filter(carriers_data.Code == 'NA').show(truncate=False)"
   ]
  },
  {
   "cell_type": "code",
   "execution_count": 22,
   "id": "1463f346-f9db-4048-bc85-7aceec7ba49f",
   "metadata": {},
   "outputs": [],
   "source": [
    "# Data is clean, so no modification is needed\n",
    "# Push data to BigQuery as Table\n",
    "spark.conf.set('temporaryGcsBucket', 'data_expo_temp_bucket')\n",
    "output_dataset = \"data-expo-pipeline.data_expo_dataset.carrier_table\""
   ]
  },
  {
   "cell_type": "code",
   "execution_count": 27,
   "id": "ce08a38a-7f41-47a1-a831-1e0237ff4a98",
   "metadata": {},
   "outputs": [
    {
     "name": "stderr",
     "output_type": "stream",
     "text": [
      "                                                                                "
     ]
    }
   ],
   "source": [
    "carriers_data.write.format('bigquery').option('table', output_dataset).mode(\"overwrite\").save()"
   ]
  },
  {
   "cell_type": "code",
   "execution_count": 28,
   "id": "a55aa63e-9bfc-495f-9b3a-948101263ec4",
   "metadata": {},
   "outputs": [],
   "source": [
    "# Stop the Spark instance\n",
    "spark.stop()"
   ]
  },
  {
   "cell_type": "code",
   "execution_count": null,
   "id": "03454169-e0e2-46d1-a66b-550842105498",
   "metadata": {},
   "outputs": [],
   "source": []
  }
 ],
 "metadata": {
  "kernelspec": {
   "display_name": "Python 3 (ipykernel)",
   "language": "python",
   "name": "python3"
  },
  "language_info": {
   "codemirror_mode": {
    "name": "ipython",
    "version": 3
   },
   "file_extension": ".py",
   "mimetype": "text/x-python",
   "name": "python",
   "nbconvert_exporter": "python",
   "pygments_lexer": "ipython3",
   "version": "3.12.11"
  }
 },
 "nbformat": 4,
 "nbformat_minor": 5
}
