{
 "cells": [
  {
   "cell_type": "code",
   "execution_count": 1,
   "id": "a40ce7f8-2fbf-47b5-8bc8-fb0c2213a6cd",
   "metadata": {},
   "outputs": [],
   "source": [
    "import pyspark\n",
    "from pyspark.sql import SparkSession\n",
    "from pyspark.conf import SparkConf\n",
    "from pyspark.context import SparkContext\n",
    "from pyspark.sql import functions as F"
   ]
  },
  {
   "cell_type": "code",
   "execution_count": 2,
   "id": "39d3ce8f-4be6-4b03-a77d-dbbbf71fd1ad",
   "metadata": {},
   "outputs": [
    {
     "name": "stderr",
     "output_type": "stream",
     "text": [
      "WARNING: Using incubator modules: jdk.incubator.vector\n",
      "25/08/11 07:54:45 WARN NativeCodeLoader: Unable to load native-hadoop library for your platform... using builtin-java classes where applicable\n",
      "Using Spark's default log4j profile: org/apache/spark/log4j2-defaults.properties\n",
      "Setting default log level to \"WARN\".\n",
      "To adjust logging level use sc.setLogLevel(newLevel). For SparkR, use setLogLevel(newLevel).\n"
     ]
    }
   ],
   "source": [
    "spark = SparkSession \\\n",
    "        .builder \\\n",
    "        .master(\"spark://spark-master:7077\") \\\n",
    "        .config(\"spark.jars\", \"/usr/local/spark/jars/gcs-connector-hadoop3-latest.jar\") \\\n",
    "        .appName('gcs-pyspark') \\\n",
    "        .getOrCreate()"
   ]
  },
  {
   "cell_type": "code",
   "execution_count": 3,
   "id": "31b0c234-58c1-4336-9d75-f232b147b608",
   "metadata": {},
   "outputs": [],
   "source": [
    "spark._jsc.hadoopConfiguration().set('fs.gs.impl', 'com.google.cloud.hadoop.fs.gcs.GoogleHadoopFileSystem')\n",
    "spark._jsc.hadoopConfiguration().set('fs.gs.auth.service.account.enable', 'true')\n",
    "spark._jsc.hadoopConfiguration().set('google.cloud.auth.service.account.json.keyfile', \"/opt/keys/credentials.json\")"
   ]
  },
  {
   "cell_type": "code",
   "execution_count": 5,
   "id": "9d0ba074-16b9-4bb8-9f45-d15a58f10889",
   "metadata": {},
   "outputs": [],
   "source": [
    "# Replace with your bucket name\n",
    "bucket_name = \"data_expo_bucket\""
   ]
  },
  {
   "cell_type": "code",
   "execution_count": 6,
   "id": "1092783a-4375-4399-996a-e05e10f894cc",
   "metadata": {},
   "outputs": [],
   "source": [
    "file_map = {i: f'gs://{bucket_name}/{i}_data.csv' for i in range(2000, 2009)}"
   ]
  },
  {
   "cell_type": "code",
   "execution_count": 7,
   "id": "a1e143cc-f09a-4d02-a14f-8450e1ce2dee",
   "metadata": {},
   "outputs": [
    {
     "data": {
      "text/plain": [
       "{2000: 'gs://data_expo_bucket/2000_data.csv',\n",
       " 2001: 'gs://data_expo_bucket/2001_data.csv',\n",
       " 2002: 'gs://data_expo_bucket/2002_data.csv',\n",
       " 2003: 'gs://data_expo_bucket/2003_data.csv',\n",
       " 2004: 'gs://data_expo_bucket/2004_data.csv',\n",
       " 2005: 'gs://data_expo_bucket/2005_data.csv',\n",
       " 2006: 'gs://data_expo_bucket/2006_data.csv',\n",
       " 2007: 'gs://data_expo_bucket/2007_data.csv',\n",
       " 2008: 'gs://data_expo_bucket/2008_data.csv'}"
      ]
     },
     "execution_count": 7,
     "metadata": {},
     "output_type": "execute_result"
    }
   ],
   "source": [
    "file_map"
   ]
  },
  {
   "cell_type": "code",
   "execution_count": 8,
   "id": "3495e9fe-e8da-4d7f-8411-a0ca182ed84c",
   "metadata": {},
   "outputs": [
    {
     "data": {
      "text/plain": [
       "'gs://data_expo_bucket/2000_data.csv'"
      ]
     },
     "execution_count": 8,
     "metadata": {},
     "output_type": "execute_result"
    }
   ],
   "source": [
    "file_map[2000]"
   ]
  },
  {
   "cell_type": "code",
   "execution_count": 9,
   "id": "232c76f7-95c9-4911-8a54-d2662a75b0bd",
   "metadata": {},
   "outputs": [
    {
     "name": "stderr",
     "output_type": "stream",
     "text": [
      "                                                                                "
     ]
    }
   ],
   "source": [
    "df_2000 = spark.read.option(\"inferSchema\", \"true\").option(\"header\", \"true\").csv(file_map[2000])"
   ]
  },
  {
   "cell_type": "code",
   "execution_count": 10,
   "id": "bedfb91e-0784-4c9a-be78-71b80382c0c8",
   "metadata": {},
   "outputs": [
    {
     "name": "stderr",
     "output_type": "stream",
     "text": [
      "                                                                                "
     ]
    },
    {
     "data": {
      "text/plain": [
       "5683047"
      ]
     },
     "execution_count": 10,
     "metadata": {},
     "output_type": "execute_result"
    }
   ],
   "source": [
    "df_2000.count()"
   ]
  },
  {
   "cell_type": "code",
   "execution_count": 15,
   "id": "9fb54e1b-60c1-45c5-ab46-53b41bdf941a",
   "metadata": {},
   "outputs": [
    {
     "data": {
      "text/plain": [
       "StructType([StructField('Year', IntegerType(), True), StructField('Month', IntegerType(), True), StructField('DayofMonth', IntegerType(), True), StructField('DayOfWeek', IntegerType(), True), StructField('DepTime', StringType(), True), StructField('CRSDepTime', IntegerType(), True), StructField('ArrTime', StringType(), True), StructField('CRSArrTime', IntegerType(), True), StructField('UniqueCarrier', StringType(), True), StructField('FlightNum', IntegerType(), True), StructField('TailNum', StringType(), True), StructField('ActualElapsedTime', StringType(), True), StructField('CRSElapsedTime', StringType(), True), StructField('AirTime', StringType(), True), StructField('ArrDelay', StringType(), True), StructField('DepDelay', StringType(), True), StructField('Origin', StringType(), True), StructField('Dest', StringType(), True), StructField('Distance', IntegerType(), True), StructField('TaxiIn', IntegerType(), True), StructField('TaxiOut', IntegerType(), True), StructField('Cancelled', IntegerType(), True), StructField('CancellationCode', StringType(), True), StructField('Diverted', IntegerType(), True), StructField('CarrierDelay', StringType(), True), StructField('WeatherDelay', StringType(), True), StructField('NASDelay', StringType(), True), StructField('SecurityDelay', StringType(), True), StructField('LateAircraftDelay', StringType(), True)])"
      ]
     },
     "execution_count": 15,
     "metadata": {},
     "output_type": "execute_result"
    }
   ],
   "source": [
    "df_2000.schema"
   ]
  },
  {
   "cell_type": "code",
   "execution_count": 13,
   "id": "13037f2d-4dee-41bd-b68f-3d04a3688d9e",
   "metadata": {},
   "outputs": [
    {
     "name": "stderr",
     "output_type": "stream",
     "text": [
      "                                                                                "
     ]
    },
    {
     "data": {
      "text/plain": [
       "[Row(Year=2000, Month=1, DayofMonth=28, DayOfWeek=5, DepTime='1647', CRSDepTime=1647, ArrTime='1906', CRSArrTime=1859, UniqueCarrier='HP', FlightNum=154, TailNum='N808AW', ActualElapsedTime='259', CRSElapsedTime='252', AirTime='233', ArrDelay='7', DepDelay='0', Origin='ATL', Dest='PHX', Distance=1587, TaxiIn=15, TaxiOut=11, Cancelled=0, CancellationCode='NA', Diverted=0, CarrierDelay='NA', WeatherDelay='NA', NASDelay='NA', SecurityDelay='NA', LateAircraftDelay='NA'),\n",
       " Row(Year=2000, Month=1, DayofMonth=29, DayOfWeek=6, DepTime='1648', CRSDepTime=1647, ArrTime='1939', CRSArrTime=1859, UniqueCarrier='HP', FlightNum=154, TailNum='N653AW', ActualElapsedTime='291', CRSElapsedTime='252', AirTime='239', ArrDelay='40', DepDelay='1', Origin='ATL', Dest='PHX', Distance=1587, TaxiIn=5, TaxiOut=47, Cancelled=0, CancellationCode='NA', Diverted=0, CarrierDelay='NA', WeatherDelay='NA', NASDelay='NA', SecurityDelay='NA', LateAircraftDelay='NA'),\n",
       " Row(Year=2000, Month=1, DayofMonth=30, DayOfWeek=7, DepTime='NA', CRSDepTime=1647, ArrTime='NA', CRSArrTime=1859, UniqueCarrier='HP', FlightNum=154, TailNum='N801AW', ActualElapsedTime='NA', CRSElapsedTime='252', AirTime='NA', ArrDelay='NA', DepDelay='NA', Origin='ATL', Dest='PHX', Distance=1587, TaxiIn=0, TaxiOut=0, Cancelled=1, CancellationCode='NA', Diverted=0, CarrierDelay='NA', WeatherDelay='NA', NASDelay='NA', SecurityDelay='NA', LateAircraftDelay='NA'),\n",
       " Row(Year=2000, Month=1, DayofMonth=31, DayOfWeek=1, DepTime='1645', CRSDepTime=1647, ArrTime='1852', CRSArrTime=1859, UniqueCarrier='HP', FlightNum=154, TailNum='N806AW', ActualElapsedTime='247', CRSElapsedTime='252', AirTime='226', ArrDelay='-7', DepDelay='-2', Origin='ATL', Dest='PHX', Distance=1587, TaxiIn=7, TaxiOut=14, Cancelled=0, CancellationCode='NA', Diverted=0, CarrierDelay='NA', WeatherDelay='NA', NASDelay='NA', SecurityDelay='NA', LateAircraftDelay='NA'),\n",
       " Row(Year=2000, Month=1, DayofMonth=1, DayOfWeek=6, DepTime='842', CRSDepTime=846, ArrTime='1057', CRSArrTime=1101, UniqueCarrier='HP', FlightNum=609, TailNum='N158AW', ActualElapsedTime='255', CRSElapsedTime='255', AirTime='244', ArrDelay='-4', DepDelay='-4', Origin='ATL', Dest='PHX', Distance=1587, TaxiIn=3, TaxiOut=8, Cancelled=0, CancellationCode='NA', Diverted=0, CarrierDelay='NA', WeatherDelay='NA', NASDelay='NA', SecurityDelay='NA', LateAircraftDelay='NA')]"
      ]
     },
     "execution_count": 13,
     "metadata": {},
     "output_type": "execute_result"
    }
   ],
   "source": [
    "df_2000.take(5)"
   ]
  },
  {
   "cell_type": "code",
   "execution_count": null,
   "id": "7d75a6a5-2e97-42e9-b6fb-11b78406f454",
   "metadata": {},
   "outputs": [],
   "source": []
  }
 ],
 "metadata": {
  "kernelspec": {
   "display_name": "Python 3 (ipykernel)",
   "language": "python",
   "name": "python3"
  },
  "language_info": {
   "codemirror_mode": {
    "name": "ipython",
    "version": 3
   },
   "file_extension": ".py",
   "mimetype": "text/x-python",
   "name": "python",
   "nbconvert_exporter": "python",
   "pygments_lexer": "ipython3",
   "version": "3.12.11"
  }
 },
 "nbformat": 4,
 "nbformat_minor": 5
}
