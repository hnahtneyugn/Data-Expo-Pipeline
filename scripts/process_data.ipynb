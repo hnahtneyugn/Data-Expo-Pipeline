{
 "cells": [
  {
   "cell_type": "code",
   "execution_count": 1,
   "id": "05f161b3-97ea-42cd-aa4b-52c5d4da02fb",
   "metadata": {},
   "outputs": [],
   "source": [
    "import pyspark\n",
    "from functools import reduce\n",
    "from pyspark.sql import SparkSession\n",
    "from pyspark.conf import SparkConf\n",
    "from pyspark.context import SparkContext\n",
    "from pyspark.sql import functions as sf"
   ]
  },
  {
   "cell_type": "code",
   "execution_count": 2,
   "id": "0b8cf282-e678-4df5-92f4-f96eca9404fc",
   "metadata": {},
   "outputs": [
    {
     "name": "stderr",
     "output_type": "stream",
     "text": [
      "25/08/14 02:12:19 WARN NativeCodeLoader: Unable to load native-hadoop library for your platform... using builtin-java classes where applicable\n",
      "Setting default log level to \"WARN\".\n",
      "To adjust logging level use sc.setLogLevel(newLevel). For SparkR, use setLogLevel(newLevel).\n"
     ]
    }
   ],
   "source": [
    "spark = SparkSession \\\n",
    "        .builder \\\n",
    "        .master(\"spark://spark-master:7077\") \\\n",
    "        .config(\n",
    "        \"spark.jars\",\n",
    "        \"/opt/bitnami/spark/jars/gcs-connector-hadoop3-latest.jar,\"\n",
    "        \"/opt/bitnami/spark/jars/spark-bigquery-with-dependencies_2.12-0.42.4.jar\"\n",
    "        ) \\\n",
    "        .appName('gcs-bq-pyspark') \\\n",
    "        .config(\"spark.executor.instances\", 1) \\\n",
    "        .config(\"spark.executor.cores\", 4) \\\n",
    "        .config(\"spark.executor.memory\", \"8g\") \\\n",
    "        .getOrCreate()"
   ]
  },
  {
   "cell_type": "code",
   "execution_count": 3,
   "id": "af6f970c-7727-472a-879d-e64f2557efe0",
   "metadata": {},
   "outputs": [],
   "source": [
    "spark.sparkContext.setLogLevel(\"WARN\")\n",
    "\n",
    "spark._jsc.hadoopConfiguration().set('fs.gs.impl', 'com.google.cloud.hadoop.fs.gcs.GoogleHadoopFileSystem')\n",
    "spark._jsc.hadoopConfiguration().set('fs.gs.auth.service.account.enable', 'true')\n",
    "spark._jsc.hadoopConfiguration().set('google.cloud.auth.service.account.json.keyfile', \"/opt/keys/credentials.json\")"
   ]
  },
  {
   "cell_type": "code",
   "execution_count": 4,
   "id": "24fa8be2-14cd-405f-bde7-bd4e27ab8171",
   "metadata": {},
   "outputs": [
    {
     "data": {
      "text/plain": [
       "['gs://data_expo_bucket/2000_data.csv',\n",
       " 'gs://data_expo_bucket/2001_data.csv',\n",
       " 'gs://data_expo_bucket/2002_data.csv',\n",
       " 'gs://data_expo_bucket/2003_data.csv',\n",
       " 'gs://data_expo_bucket/2004_data.csv',\n",
       " 'gs://data_expo_bucket/2005_data.csv',\n",
       " 'gs://data_expo_bucket/2006_data.csv',\n",
       " 'gs://data_expo_bucket/2007_data.csv',\n",
       " 'gs://data_expo_bucket/2008_data.csv']"
      ]
     },
     "execution_count": 4,
     "metadata": {},
     "output_type": "execute_result"
    }
   ],
   "source": [
    "# Read from CSV files\n",
    "bucket_name = \"data_expo_bucket\"\n",
    "files = [f\"gs://{bucket_name}/{year}_data.csv\" for year in range(2000, 2009)]\n",
    "files"
   ]
  },
  {
   "cell_type": "code",
   "execution_count": 5,
   "id": "afdeb19d-977b-43d1-bf74-40c81ead7267",
   "metadata": {},
   "outputs": [
    {
     "name": "stderr",
     "output_type": "stream",
     "text": [
      "                                                                                "
     ]
    }
   ],
   "source": [
    "df = spark.read.option(\"header\", \"true\").csv(files)"
   ]
  },
  {
   "cell_type": "code",
   "execution_count": 6,
   "id": "1ac27742-b6d1-40be-bc29-89269841ca09",
   "metadata": {},
   "outputs": [
    {
     "data": {
      "text/plain": [
       "StructType([StructField('Year', StringType(), True), StructField('Month', StringType(), True), StructField('DayofMonth', StringType(), True), StructField('DayOfWeek', StringType(), True), StructField('DepTime', StringType(), True), StructField('CRSDepTime', StringType(), True), StructField('ArrTime', StringType(), True), StructField('CRSArrTime', StringType(), True), StructField('UniqueCarrier', StringType(), True), StructField('FlightNum', StringType(), True), StructField('TailNum', StringType(), True), StructField('ActualElapsedTime', StringType(), True), StructField('CRSElapsedTime', StringType(), True), StructField('AirTime', StringType(), True), StructField('ArrDelay', StringType(), True), StructField('DepDelay', StringType(), True), StructField('Origin', StringType(), True), StructField('Dest', StringType(), True), StructField('Distance', StringType(), True), StructField('TaxiIn', StringType(), True), StructField('TaxiOut', StringType(), True), StructField('Cancelled', StringType(), True), StructField('CancellationCode', StringType(), True), StructField('Diverted', StringType(), True), StructField('CarrierDelay', StringType(), True), StructField('WeatherDelay', StringType(), True), StructField('NASDelay', StringType(), True), StructField('SecurityDelay', StringType(), True), StructField('LateAircraftDelay', StringType(), True)])"
      ]
     },
     "execution_count": 6,
     "metadata": {},
     "output_type": "execute_result"
    }
   ],
   "source": [
    "# Check DataFrame's schema\n",
    "df.schema"
   ]
  },
  {
   "cell_type": "code",
   "execution_count": 7,
   "id": "e8455d8a-518d-4728-870e-79cc76ee0fa3",
   "metadata": {},
   "outputs": [
    {
     "name": "stderr",
     "output_type": "stream",
     "text": [
      "25/08/14 02:12:26 WARN SparkStringUtils: Truncated the string representation of a plan since it was too large. This behavior can be adjusted by setting 'spark.sql.debug.maxToStringFields'.\n",
      "                                                                                "
     ]
    },
    {
     "data": {
      "text/plain": [
       "[Row(Year='2000', Month='1', DayofMonth='28', DayOfWeek='5', DepTime='1647', CRSDepTime='1647', ArrTime='1906', CRSArrTime='1859', UniqueCarrier='HP', FlightNum='154', TailNum='N808AW', ActualElapsedTime='259', CRSElapsedTime='252', AirTime='233', ArrDelay='7', DepDelay='0', Origin='ATL', Dest='PHX', Distance='1587', TaxiIn='15', TaxiOut='11', Cancelled='0', CancellationCode='NA', Diverted='0', CarrierDelay='NA', WeatherDelay='NA', NASDelay='NA', SecurityDelay='NA', LateAircraftDelay='NA'),\n",
       " Row(Year='2000', Month='1', DayofMonth='29', DayOfWeek='6', DepTime='1648', CRSDepTime='1647', ArrTime='1939', CRSArrTime='1859', UniqueCarrier='HP', FlightNum='154', TailNum='N653AW', ActualElapsedTime='291', CRSElapsedTime='252', AirTime='239', ArrDelay='40', DepDelay='1', Origin='ATL', Dest='PHX', Distance='1587', TaxiIn='5', TaxiOut='47', Cancelled='0', CancellationCode='NA', Diverted='0', CarrierDelay='NA', WeatherDelay='NA', NASDelay='NA', SecurityDelay='NA', LateAircraftDelay='NA'),\n",
       " Row(Year='2000', Month='1', DayofMonth='30', DayOfWeek='7', DepTime='NA', CRSDepTime='1647', ArrTime='NA', CRSArrTime='1859', UniqueCarrier='HP', FlightNum='154', TailNum='N801AW', ActualElapsedTime='NA', CRSElapsedTime='252', AirTime='NA', ArrDelay='NA', DepDelay='NA', Origin='ATL', Dest='PHX', Distance='1587', TaxiIn='0', TaxiOut='0', Cancelled='1', CancellationCode='NA', Diverted='0', CarrierDelay='NA', WeatherDelay='NA', NASDelay='NA', SecurityDelay='NA', LateAircraftDelay='NA'),\n",
       " Row(Year='2000', Month='1', DayofMonth='31', DayOfWeek='1', DepTime='1645', CRSDepTime='1647', ArrTime='1852', CRSArrTime='1859', UniqueCarrier='HP', FlightNum='154', TailNum='N806AW', ActualElapsedTime='247', CRSElapsedTime='252', AirTime='226', ArrDelay='-7', DepDelay='-2', Origin='ATL', Dest='PHX', Distance='1587', TaxiIn='7', TaxiOut='14', Cancelled='0', CancellationCode='NA', Diverted='0', CarrierDelay='NA', WeatherDelay='NA', NASDelay='NA', SecurityDelay='NA', LateAircraftDelay='NA'),\n",
       " Row(Year='2000', Month='1', DayofMonth='1', DayOfWeek='6', DepTime='842', CRSDepTime='846', ArrTime='1057', CRSArrTime='1101', UniqueCarrier='HP', FlightNum='609', TailNum='N158AW', ActualElapsedTime='255', CRSElapsedTime='255', AirTime='244', ArrDelay='-4', DepDelay='-4', Origin='ATL', Dest='PHX', Distance='1587', TaxiIn='3', TaxiOut='8', Cancelled='0', CancellationCode='NA', Diverted='0', CarrierDelay='NA', WeatherDelay='NA', NASDelay='NA', SecurityDelay='NA', LateAircraftDelay='NA')]"
      ]
     },
     "execution_count": 7,
     "metadata": {},
     "output_type": "execute_result"
    }
   ],
   "source": [
    "# Take a look at some records\n",
    "df.take(5)"
   ]
  },
  {
   "cell_type": "code",
   "execution_count": 8,
   "id": "4293ce80-625a-4306-b280-99db1e56d372",
   "metadata": {},
   "outputs": [],
   "source": [
    "# Drop NULL columns\n",
    "cols_to_drop = ['CancellationCode', 'CarrierDelay', 'WeatherDelay', 'NASDelay', 'SecurityDelay', 'LateAircraftDelay']\n",
    "df = df.drop(*cols_to_drop)"
   ]
  },
  {
   "cell_type": "code",
   "execution_count": 9,
   "id": "2b3f96b5-881b-4231-9d02-f6d42abfc534",
   "metadata": {},
   "outputs": [
    {
     "data": {
      "text/plain": [
       "StructType([StructField('Year', StringType(), True), StructField('Month', StringType(), True), StructField('DayofMonth', StringType(), True), StructField('DayOfWeek', StringType(), True), StructField('DepTime', StringType(), True), StructField('CRSDepTime', StringType(), True), StructField('ArrTime', StringType(), True), StructField('CRSArrTime', StringType(), True), StructField('UniqueCarrier', StringType(), True), StructField('FlightNum', StringType(), True), StructField('TailNum', StringType(), True), StructField('ActualElapsedTime', StringType(), True), StructField('CRSElapsedTime', StringType(), True), StructField('AirTime', StringType(), True), StructField('ArrDelay', StringType(), True), StructField('DepDelay', StringType(), True), StructField('Origin', StringType(), True), StructField('Dest', StringType(), True), StructField('Distance', StringType(), True), StructField('TaxiIn', StringType(), True), StructField('TaxiOut', StringType(), True), StructField('Cancelled', StringType(), True), StructField('Diverted', StringType(), True)])"
      ]
     },
     "execution_count": 9,
     "metadata": {},
     "output_type": "execute_result"
    }
   ],
   "source": [
    "# Check DataFrame's schema after dropping columns\n",
    "df.schema"
   ]
  },
  {
   "cell_type": "code",
   "execution_count": 10,
   "id": "87a58f9f-374b-44ba-a98e-ffb393e2cf93",
   "metadata": {},
   "outputs": [],
   "source": [
    "# Repartition for safe parallelism\n",
    "df = df.repartition(40)"
   ]
  },
  {
   "cell_type": "code",
   "execution_count": 11,
   "id": "a945dea1-9eaf-4c31-8a26-45ab9b5d490f",
   "metadata": {},
   "outputs": [
    {
     "name": "stderr",
     "output_type": "stream",
     "text": [
      "                                                                                "
     ]
    }
   ],
   "source": [
    "# Write to Parquet in GCS\n",
    "df.write.mode(\"overwrite\").parquet(f\"gs://{bucket_name}/all_years_parquet\")"
   ]
  },
  {
   "cell_type": "code",
   "execution_count": 12,
   "id": "0ea4f508-141a-49c5-9be6-f26194ef75b3",
   "metadata": {},
   "outputs": [
    {
     "name": "stderr",
     "output_type": "stream",
     "text": [
      "                                                                                "
     ]
    }
   ],
   "source": [
    "df_parquet = spark.read.parquet(f\"gs://{bucket_name}/all_years_parquet\")"
   ]
  },
  {
   "cell_type": "code",
   "execution_count": 13,
   "id": "f39c94b6-9b1a-4d31-8347-0bc949af410d",
   "metadata": {},
   "outputs": [
    {
     "name": "stderr",
     "output_type": "stream",
     "text": [
      "                                                                                "
     ]
    },
    {
     "data": {
      "text/plain": [
       "[Row(Year='2000', Month='3', DayofMonth='9', DayOfWeek='4', DepTime='902', CRSDepTime='900', ArrTime='1450', CRSArrTime='1433', UniqueCarrier='DL', FlightNum='308', TailNum='N668DN', ActualElapsedTime='228', CRSElapsedTime='213', AirTime='197', ArrDelay='17', DepDelay='2', Origin='PHX', Dest='ATL', Distance='1587', TaxiIn='7', TaxiOut='24', Cancelled='0', Diverted='0'),\n",
       " Row(Year='2000', Month='1', DayofMonth='3', DayOfWeek='1', DepTime='1148', CRSDepTime='1150', ArrTime='1418', CRSArrTime='1424', UniqueCarrier='US', FlightNum='1640', TailNum='N427US', ActualElapsedTime='150', CRSElapsedTime='154', AirTime='120', ArrDelay='-6', DepDelay='-2', Origin='PBI', Dest='PIT', Distance='952', TaxiIn='21', TaxiOut='9', Cancelled='0', Diverted='0'),\n",
       " Row(Year='2000', Month='1', DayofMonth='10', DayOfWeek='1', DepTime='1406', CRSDepTime='1340', ArrTime='1455', CRSArrTime='1430', UniqueCarrier='US', FlightNum='2122', TailNum='N850US', ActualElapsedTime='49', CRSElapsedTime='50', AirTime='33', ArrDelay='25', DepDelay='26', Origin='CLT', Dest='ROA', Distance='155', TaxiIn='4', TaxiOut='12', Cancelled='0', Diverted='0'),\n",
       " Row(Year='2000', Month='3', DayofMonth='12', DayOfWeek='7', DepTime='1628', CRSDepTime='1620', ArrTime='1743', CRSArrTime='1735', UniqueCarrier='WN', FlightNum='1201', TailNum='N397', ActualElapsedTime='75', CRSElapsedTime='75', AirTime='59', ArrDelay='8', DepDelay='8', Origin='SJC', Dest='LAS', Distance='386', TaxiIn='4', TaxiOut='12', Cancelled='0', Diverted='0'),\n",
       " Row(Year='2000', Month='2', DayofMonth='16', DayOfWeek='3', DepTime='647', CRSDepTime='650', ArrTime='831', CRSArrTime='836', UniqueCarrier='NW', FlightNum='1750', TailNum='N603NW', ActualElapsedTime='104', CRSElapsedTime='106', AirTime='72', ArrDelay='-5', DepDelay='-3', Origin='DTW', Dest='GSP', Distance='508', TaxiIn='2', TaxiOut='30', Cancelled='0', Diverted='0')]"
      ]
     },
     "execution_count": 13,
     "metadata": {},
     "output_type": "execute_result"
    }
   ],
   "source": [
    "df_parquet.take(5)"
   ]
  },
  {
   "cell_type": "code",
   "execution_count": 14,
   "id": "4b35702c-67da-45a7-a9c0-d232045f2465",
   "metadata": {},
   "outputs": [
    {
     "name": "stderr",
     "output_type": "stream",
     "text": [
      "                                                                                "
     ]
    },
    {
     "data": {
      "text/plain": [
       "54664946"
      ]
     },
     "execution_count": 14,
     "metadata": {},
     "output_type": "execute_result"
    }
   ],
   "source": [
    "df_parquet.count()"
   ]
  },
  {
   "cell_type": "code",
   "execution_count": 15,
   "id": "1b88072b-d30f-4f87-8a00-3e27f55162eb",
   "metadata": {},
   "outputs": [
    {
     "name": "stderr",
     "output_type": "stream",
     "text": [
      "[Stage 10:====================================================>   (13 + 1) / 14]"
     ]
    },
    {
     "name": "stdout",
     "output_type": "stream",
     "text": [
      "+----+-----+----------+---------+-------+----------+-------+----------+-------------+---------+-------+-----------------+--------------+-------+--------+--------+------+----+--------+------+-------+---------+--------+\n",
      "|Year|Month|DayofMonth|DayOfWeek|DepTime|CRSDepTime|ArrTime|CRSArrTime|UniqueCarrier|FlightNum|TailNum|ActualElapsedTime|CRSElapsedTime|AirTime|ArrDelay|DepDelay|Origin|Dest|Distance|TaxiIn|TaxiOut|Cancelled|Diverted|\n",
      "+----+-----+----------+---------+-------+----------+-------+----------+-------------+---------+-------+-----------------+--------------+-------+--------+--------+------+----+--------+------+-------+---------+--------+\n",
      "|   0|    0|         0|        0|1193911|         0|1307642|         0|            0|        0|  98861|          1307643|          1675|1307763| 1307643| 1193911|     0|   0|       0| 70096|  64442|        0|       0|\n",
      "+----+-----+----------+---------+-------+----------+-------+----------+-------------+---------+-------+-----------------+--------------+-------+--------+--------+------+----+--------+------+-------+---------+--------+\n",
      "\n"
     ]
    },
    {
     "name": "stderr",
     "output_type": "stream",
     "text": [
      "                                                                                "
     ]
    }
   ],
   "source": [
    "df_parquet.select([sf.count(sf.when(sf.col(c).isin(['null', 'NULL', 'NA', 'NaN']) | sf.col(c).isNull(), c)).alias(c) for c in df_parquet.columns]).show()"
   ]
  },
  {
   "cell_type": "code",
   "execution_count": 16,
   "id": "25d53941-4f83-425b-a6ff-dd92defd26ca",
   "metadata": {},
   "outputs": [],
   "source": [
    "# Filter missing TaxiIn and TaxiOut\n",
    "df_parquet = df_parquet.filter(~(sf.col(\"TaxiIn\").isNull() | sf.col(\"TaxiOut\").isNull() | sf.col(\"TaxiIn\").isin(['null', 'NULL', 'NA', 'NaN']) | sf.col(\"TaxiOut\").isin(['null', 'NULL', 'NA', 'NaN'])))"
   ]
  },
  {
   "cell_type": "code",
   "execution_count": 17,
   "id": "65b186e6-645f-4dfd-820a-83d6f65895b6",
   "metadata": {},
   "outputs": [
    {
     "name": "stderr",
     "output_type": "stream",
     "text": [
      "[Stage 13:====================================================>   (13 + 1) / 14]"
     ]
    },
    {
     "name": "stdout",
     "output_type": "stream",
     "text": [
      "+----+-----+----------+---------+-------+----------+-------+----------+-------------+---------+-------+-----------------+--------------+-------+--------+--------+------+----+--------+------+-------+---------+--------+\n",
      "|Year|Month|DayofMonth|DayOfWeek|DepTime|CRSDepTime|ArrTime|CRSArrTime|UniqueCarrier|FlightNum|TailNum|ActualElapsedTime|CRSElapsedTime|AirTime|ArrDelay|DepDelay|Origin|Dest|Distance|TaxiIn|TaxiOut|Cancelled|Diverted|\n",
      "+----+-----+----------+---------+-------+----------+-------+----------+-------------+---------+-------+-----------------+--------------+-------+--------+--------+------+----+--------+------+-------+---------+--------+\n",
      "|   0|    0|         0|        0|1129469|         0|1237546|         0|            0|        0|  56411|          1237547|          1268|1237667| 1237547| 1129469|     0|   0|       0|     0|      0|        0|       0|\n",
      "+----+-----+----------+---------+-------+----------+-------+----------+-------------+---------+-------+-----------------+--------------+-------+--------+--------+------+----+--------+------+-------+---------+--------+\n",
      "\n"
     ]
    },
    {
     "name": "stderr",
     "output_type": "stream",
     "text": [
      "                                                                                "
     ]
    }
   ],
   "source": [
    "# Check NULL values after removing records\n",
    "df_parquet.select([sf.count(sf.when(sf.col(c).isin(['null', 'NULL', 'NA', 'NaN']) | sf.col(c).isNull(), c)).alias(c) for c in df_parquet.columns]).show()"
   ]
  },
  {
   "cell_type": "code",
   "execution_count": 18,
   "id": "7af50c72-3afc-4de0-b787-841be22d4a5d",
   "metadata": {},
   "outputs": [],
   "source": [
    "# Filter missing CRS Elapsed Time\n",
    "df_parquet = df_parquet.filter(~(sf.col(\"CRSElapsedTime\").isNull() | sf.col(\"CRSElapsedTime\").isin(['null', 'NULL', 'NA', 'NaN'])))"
   ]
  },
  {
   "cell_type": "code",
   "execution_count": 19,
   "id": "17e27cc0-8885-4d1c-a08e-2c6a8b4b068c",
   "metadata": {},
   "outputs": [],
   "source": [
    "# Modify Tail Num information for unknown tail number\n",
    "df_parquet = df_parquet.withColumn(\"TailNum\", sf.when((sf.col(\"TailNum\") == \"UNKNOW\") | sf.col(\"TailNum\").isin(['null', 'NULL', 'NA', 'NaN']) | sf.col(\"TailNum\").isNull(), \"Unknown Tail Number\") \\\n",
    "    .otherwise(sf.col(\"TailNum\")))"
   ]
  },
  {
   "cell_type": "code",
   "execution_count": 20,
   "id": "dda20aa1-f8a1-4c13-98d2-0403a3554ce9",
   "metadata": {},
   "outputs": [],
   "source": [
    "# Remove non-ASCII characters\n",
    "df_parquet = df_parquet.withColumn(\n",
    "    \"TailNum\",\n",
    "    sf.regexp_replace(\"TailNum\", \"[^\\x20-\\x7E]\", \"\")\n",
    ")"
   ]
  },
  {
   "cell_type": "code",
   "execution_count": 21,
   "id": "b5948814-bd6c-4561-8e24-405aeb99585d",
   "metadata": {},
   "outputs": [],
   "source": [
    "# Define condition to create a new column\n",
    "missing_values = ['null', 'NULL', 'NA', 'NaN']\n",
    "\n",
    "cols_to_check = [\n",
    "    \"DepTime\", \"ArrTime\", \"ActualElapsedTime\", \n",
    "    \"AirTime\", \"ArrDelay\", \"DepDelay\"\n",
    "]\n",
    "\n",
    "conditions = [\n",
    "    (sf.col(c).isNull()) | (sf.col(c).isin(missing_values))\n",
    "    for c in cols_to_check\n",
    "]"
   ]
  },
  {
   "cell_type": "code",
   "execution_count": 22,
   "id": "b996b958-25a2-4daa-a85f-e08e11c096da",
   "metadata": {},
   "outputs": [],
   "source": [
    "# (((cond1 | cond2) | cond3) | cond4) | cond5) | cond6\n",
    "combined_condition = reduce(lambda a, b: a | b, conditions)"
   ]
  },
  {
   "cell_type": "code",
   "execution_count": 23,
   "id": "43dc1c48-d678-465e-8bff-2519fbbf2a57",
   "metadata": {},
   "outputs": [],
   "source": [
    "# Create a new column based on our condition\n",
    "df_parquet = df_parquet.withColumn(\n",
    "    \"MissingData\",\n",
    "    sf.when(combined_condition, 1).otherwise(0)\n",
    ")"
   ]
  },
  {
   "cell_type": "code",
   "execution_count": 24,
   "id": "89ef2b12-dbbf-4a76-95f5-fc80bb3522e6",
   "metadata": {},
   "outputs": [
    {
     "name": "stderr",
     "output_type": "stream",
     "text": [
      "[Stage 16:====================================================>   (13 + 1) / 14]"
     ]
    },
    {
     "name": "stdout",
     "output_type": "stream",
     "text": [
      "+-----------+--------+\n",
      "|MissingData|   count|\n",
      "+-----------+--------+\n",
      "|          1| 1236400|\n",
      "|          0|53357182|\n",
      "+-----------+--------+\n",
      "\n"
     ]
    },
    {
     "name": "stderr",
     "output_type": "stream",
     "text": [
      "                                                                                "
     ]
    }
   ],
   "source": [
    "# Show number of records that need modification\n",
    "df_parquet.groupBy(\"MissingData\").count().show()"
   ]
  },
  {
   "cell_type": "code",
   "execution_count": 25,
   "id": "2f4edfea-1dda-403d-adb8-3347ca9d4425",
   "metadata": {},
   "outputs": [],
   "source": [
    "# Fill in NULL values from CRS columns data\n",
    "df_parquet = df_parquet.withColumns({\n",
    "    \"DepTime\":\n",
    "    sf.when(sf.col(\"DepTime\").isNull() | sf.col(\"DepTime\").isin(missing_values), sf.col(\"CRSDepTime\")).otherwise(sf.col(\"DepTime\")),\n",
    "    \"ArrTime\":\n",
    "    sf.when(sf.col(\"ArrTime\").isNull() | sf.col(\"ArrTime\").isin(missing_values), sf.col(\"CRSArrTime\")).otherwise(sf.col(\"ArrTime\")),\n",
    "    \"ActualElapsedTime\":\n",
    "    sf.when(sf.col(\"ActualElapsedTime\").isNull() | sf.col(\"ActualElapsedTime\").isin(missing_values), sf.col(\"CRSElapsedTime\")).otherwise(sf.col(\"ActualElapsedTime\")),\n",
    "    \"DepDelay\":\n",
    "    sf.when(sf.col(\"DepDelay\").isNull() | sf.col(\"DepDelay\").isin(missing_values), \"0\").otherwise(sf.col(\"DepDelay\")),\n",
    "    \"ArrDelay\":\n",
    "    sf.when(sf.col(\"ArrDelay\").isNull() | sf.col(\"ArrDelay\").isin(missing_values), \"0\").otherwise(sf.col(\"ArrDelay\"))\n",
    "})"
   ]
  },
  {
   "cell_type": "code",
   "execution_count": 26,
   "id": "b05632ba-96f1-4f91-9b3a-6dc9462bd14e",
   "metadata": {},
   "outputs": [
    {
     "name": "stderr",
     "output_type": "stream",
     "text": [
      "[Stage 19:====================================================>   (13 + 1) / 14]"
     ]
    },
    {
     "name": "stdout",
     "output_type": "stream",
     "text": [
      "+----+-----+----------+---------+-------+----------+-------+----------+-------------+---------+-------+-----------------+--------------+-------+--------+--------+------+----+--------+------+-------+---------+--------+-----------+\n",
      "|Year|Month|DayofMonth|DayOfWeek|DepTime|CRSDepTime|ArrTime|CRSArrTime|UniqueCarrier|FlightNum|TailNum|ActualElapsedTime|CRSElapsedTime|AirTime|ArrDelay|DepDelay|Origin|Dest|Distance|TaxiIn|TaxiOut|Cancelled|Diverted|MissingData|\n",
      "+----+-----+----------+---------+-------+----------+-------+----------+-------------+---------+-------+-----------------+--------------+-------+--------+--------+------+----+--------+------+-------+---------+--------+-----------+\n",
      "|   0|    0|         0|        0|      0|         0|      0|         0|            0|        0|      0|                0|             0|1236399|       0|       0|     0|   0|       0|     0|      0|        0|       0|          0|\n",
      "+----+-----+----------+---------+-------+----------+-------+----------+-------------+---------+-------+-----------------+--------------+-------+--------+--------+------+----+--------+------+-------+---------+--------+-----------+\n",
      "\n"
     ]
    },
    {
     "name": "stderr",
     "output_type": "stream",
     "text": [
      "                                                                                "
     ]
    }
   ],
   "source": [
    "# Check NULL values once again\n",
    "df_parquet.select([sf.count(sf.when(sf.col(c).isin(['null', 'NULL', 'NA', 'NaN']) | sf.col(c).isNull(), c)).alias(c) for c in df_parquet.columns]).show()"
   ]
  },
  {
   "cell_type": "code",
   "execution_count": 27,
   "id": "658ad5c3-2a40-4bfe-8fbf-540bb037b26d",
   "metadata": {},
   "outputs": [],
   "source": [
    "# Filling Air Time\n",
    "df_parquet = df_parquet.withColumn(\n",
    "    \"AirTime\",\n",
    "    sf.when(sf.col(\"AirTime\").isNull() | sf.col(\"AirTime\").isin(missing_values), (sf.col(\"ActualElapsedTime\").cast('int') - sf.col(\"TaxiIn\").cast('int') - sf.col(\"TaxiOut\").cast('int')).cast('string')).otherwise(sf.col(\"AirTime\"))\n",
    ")"
   ]
  },
  {
   "cell_type": "code",
   "execution_count": 28,
   "id": "066a12e7-4e02-469d-b1ab-9b12ff8d6438",
   "metadata": {},
   "outputs": [
    {
     "name": "stderr",
     "output_type": "stream",
     "text": [
      "[Stage 22:====================================================>   (13 + 1) / 14]"
     ]
    },
    {
     "name": "stdout",
     "output_type": "stream",
     "text": [
      "+----+-----+----------+---------+-------+----------+-------+----------+-------------+---------+-------+-----------------+--------------+-------+--------+--------+------+----+--------+------+-------+---------+--------+-----------+\n",
      "|Year|Month|DayofMonth|DayOfWeek|DepTime|CRSDepTime|ArrTime|CRSArrTime|UniqueCarrier|FlightNum|TailNum|ActualElapsedTime|CRSElapsedTime|AirTime|ArrDelay|DepDelay|Origin|Dest|Distance|TaxiIn|TaxiOut|Cancelled|Diverted|MissingData|\n",
      "+----+-----+----------+---------+-------+----------+-------+----------+-------------+---------+-------+-----------------+--------------+-------+--------+--------+------+----+--------+------+-------+---------+--------+-----------+\n",
      "|   0|    0|         0|        0|      0|         0|      0|         0|            0|        0|      0|                0|             0|      0|       0|       0|     0|   0|       0|     0|      0|        0|       0|          0|\n",
      "+----+-----+----------+---------+-------+----------+-------+----------+-------------+---------+-------+-----------------+--------------+-------+--------+--------+------+----+--------+------+-------+---------+--------+-----------+\n",
      "\n"
     ]
    },
    {
     "name": "stderr",
     "output_type": "stream",
     "text": [
      "                                                                                "
     ]
    }
   ],
   "source": [
    "# Check NULL values once again\n",
    "df_parquet.select([sf.count(sf.when(sf.col(c).isin(['null', 'NULL', 'NA', 'NaN']) | sf.col(c).isNull(), c)).alias(c) for c in df_parquet.columns]).show()"
   ]
  },
  {
   "cell_type": "code",
   "execution_count": 29,
   "id": "8f9dc2e8-1234-4b45-afad-90b99152bf55",
   "metadata": {},
   "outputs": [],
   "source": [
    "# Columns to convert to integer\n",
    "int_cols = [\n",
    "    \"Year\", \"Month\", \"DayofMonth\", \"DayOfWeek\",\n",
    "    \"DepTime\", \"CRSDepTime\", \"ArrTime\", \"CRSArrTime\",\n",
    "    \"FlightNum\", \"ActualElapsedTime\", \"CRSElapsedTime\",\n",
    "    \"AirTime\", \"ArrDelay\", \"DepDelay\", \"Distance\",\n",
    "    \"TaxiIn\", \"TaxiOut\", \"Cancelled\", \"Diverted\"\n",
    "]"
   ]
  },
  {
   "cell_type": "code",
   "execution_count": 30,
   "id": "a9f1066a-d44a-440b-8696-1108c4274f1f",
   "metadata": {},
   "outputs": [],
   "source": [
    "# Convert type\n",
    "for c in int_cols:\n",
    "    df_parquet = df_parquet.withColumn(c, sf.col(c).cast(\"int\"))"
   ]
  },
  {
   "cell_type": "code",
   "execution_count": 31,
   "id": "d84a0bed-8e0d-4a2b-b65d-2fcc0c4f1b7d",
   "metadata": {},
   "outputs": [
    {
     "data": {
      "text/plain": [
       "StructType([StructField('Year', IntegerType(), True), StructField('Month', IntegerType(), True), StructField('DayofMonth', IntegerType(), True), StructField('DayOfWeek', IntegerType(), True), StructField('DepTime', IntegerType(), True), StructField('CRSDepTime', IntegerType(), True), StructField('ArrTime', IntegerType(), True), StructField('CRSArrTime', IntegerType(), True), StructField('UniqueCarrier', StringType(), True), StructField('FlightNum', IntegerType(), True), StructField('TailNum', StringType(), True), StructField('ActualElapsedTime', IntegerType(), True), StructField('CRSElapsedTime', IntegerType(), True), StructField('AirTime', IntegerType(), True), StructField('ArrDelay', IntegerType(), True), StructField('DepDelay', IntegerType(), True), StructField('Origin', StringType(), True), StructField('Dest', StringType(), True), StructField('Distance', IntegerType(), True), StructField('TaxiIn', IntegerType(), True), StructField('TaxiOut', IntegerType(), True), StructField('Cancelled', IntegerType(), True), StructField('Diverted', IntegerType(), True), StructField('MissingData', IntegerType(), False)])"
      ]
     },
     "execution_count": 31,
     "metadata": {},
     "output_type": "execute_result"
    }
   ],
   "source": [
    "# Check DataFrame schema after converting\n",
    "df_parquet.schema"
   ]
  },
  {
   "cell_type": "code",
   "execution_count": 32,
   "id": "e56f79d3-5d1c-4a83-9f7c-d77f147ac424",
   "metadata": {},
   "outputs": [],
   "source": [
    "# Create Date column\n",
    "df_parquet = df_parquet.withColumn(\n",
    "    \"FlightDate\",\n",
    "    sf.to_date(\n",
    "        sf.concat_ws(\"-\", \n",
    "                    sf.col(\"Year\"), \n",
    "                    sf.lpad(sf.col(\"Month\").cast(\"string\"), 2, \"0\"), \n",
    "                    sf.lpad(sf.col(\"DayOfMonth\").cast(\"string\"), 2, \"0\"))\n",
    "    )\n",
    ")"
   ]
  },
  {
   "cell_type": "code",
   "execution_count": 33,
   "id": "552dfeb7-6008-4c61-98a0-4b05a523f37f",
   "metadata": {},
   "outputs": [
    {
     "name": "stderr",
     "output_type": "stream",
     "text": [
      "[Stage 25:>                                                         (0 + 1) / 1]"
     ]
    },
    {
     "name": "stdout",
     "output_type": "stream",
     "text": [
      "+----------+\n",
      "|FlightDate|\n",
      "+----------+\n",
      "|2000-03-09|\n",
      "|2000-01-03|\n",
      "|2000-01-10|\n",
      "|2000-03-12|\n",
      "|2000-02-16|\n",
      "|2000-01-17|\n",
      "|2000-03-29|\n",
      "|2000-03-13|\n",
      "|2000-01-03|\n",
      "|2000-03-26|\n",
      "|2000-03-30|\n",
      "|2000-01-18|\n",
      "|2000-02-12|\n",
      "|2000-02-09|\n",
      "|2000-01-22|\n",
      "|2000-02-06|\n",
      "|2000-01-27|\n",
      "|2000-01-15|\n",
      "|2000-03-31|\n",
      "|2000-01-27|\n",
      "+----------+\n",
      "only showing top 20 rows\n",
      "\n"
     ]
    },
    {
     "name": "stderr",
     "output_type": "stream",
     "text": [
      "                                                                                "
     ]
    }
   ],
   "source": [
    "df_parquet.select(df_parquet.FlightDate).show()"
   ]
  },
  {
   "cell_type": "code",
   "execution_count": 34,
   "id": "fc268ad9-caf9-4434-bfd7-16c816cfdc29",
   "metadata": {},
   "outputs": [],
   "source": [
    "# Write partitioned, clustered data to BigQuery\n",
    "spark.conf.set('temporaryGcsBucket', 'data_expo_temp_bucket')\n",
    "output_dataset = \"data-expo-pipeline.data_expo_dataset.final_data_table\""
   ]
  },
  {
   "cell_type": "code",
   "execution_count": 35,
   "id": "f6025f05-b2a5-45d8-92ae-bfd9576e2b6a",
   "metadata": {},
   "outputs": [
    {
     "name": "stderr",
     "output_type": "stream",
     "text": [
      "                                                                                "
     ]
    }
   ],
   "source": [
    "df_parquet.write \\\n",
    "    .format(\"bigquery\") \\\n",
    "    .option(\"table\", output_dataset) \\\n",
    "    .option(\"partitionField\", \"FlightDate\") \\\n",
    "    .option(\"clusteredFields\", \"Origin,Dest,UniqueCarrier\") \\\n",
    "    .mode(\"overwrite\") \\\n",
    "    .save()"
   ]
  },
  {
   "cell_type": "code",
   "execution_count": null,
   "id": "e2411fea-abe8-458f-bd38-b7d8e617ef78",
   "metadata": {},
   "outputs": [],
   "source": [
    "spark.stop()"
   ]
  }
 ],
 "metadata": {
  "kernelspec": {
   "display_name": "Python 3 (ipykernel)",
   "language": "python",
   "name": "python3"
  },
  "language_info": {
   "codemirror_mode": {
    "name": "ipython",
    "version": 3
   },
   "file_extension": ".py",
   "mimetype": "text/x-python",
   "name": "python",
   "nbconvert_exporter": "python",
   "pygments_lexer": "ipython3",
   "version": "3.12.11"
  }
 },
 "nbformat": 4,
 "nbformat_minor": 5
}
