{
 "cells": [
  {
   "cell_type": "code",
   "execution_count": 1,
   "id": "05f161b3-97ea-42cd-aa4b-52c5d4da02fb",
   "metadata": {},
   "outputs": [],
   "source": [
    "import pyspark\n",
    "from pyspark.sql import SparkSession\n",
    "from pyspark.conf import SparkConf\n",
    "from pyspark.context import SparkContext\n",
    "from pyspark.sql import functions as sf"
   ]
  },
  {
   "cell_type": "code",
   "execution_count": 2,
   "id": "0b8cf282-e678-4df5-92f4-f96eca9404fc",
   "metadata": {},
   "outputs": [
    {
     "name": "stderr",
     "output_type": "stream",
     "text": [
      "25/08/13 08:35:55 WARN NativeCodeLoader: Unable to load native-hadoop library for your platform... using builtin-java classes where applicable\n",
      "Setting default log level to \"WARN\".\n",
      "To adjust logging level use sc.setLogLevel(newLevel). For SparkR, use setLogLevel(newLevel).\n"
     ]
    }
   ],
   "source": [
    "spark = SparkSession \\\n",
    "        .builder \\\n",
    "        .master(\"spark://spark-master:7077\") \\\n",
    "        .config(\n",
    "        \"spark.jars\",\n",
    "        \"/opt/bitnami/spark/jars/gcs-connector-hadoop3-latest.jar,\"\n",
    "        \"/opt/bitnami/spark/jars/spark-bigquery-with-dependencies_2.12-0.42.4.jar\"\n",
    "        ) \\\n",
    "        .appName('gcs-bq-pyspark') \\\n",
    "        .getOrCreate()"
   ]
  },
  {
   "cell_type": "code",
   "execution_count": 3,
   "id": "af6f970c-7727-472a-879d-e64f2557efe0",
   "metadata": {},
   "outputs": [],
   "source": [
    "spark.sparkContext.setLogLevel(\"WARN\")\n",
    "\n",
    "spark._jsc.hadoopConfiguration().set('fs.gs.impl', 'com.google.cloud.hadoop.fs.gcs.GoogleHadoopFileSystem')\n",
    "spark._jsc.hadoopConfiguration().set('fs.gs.auth.service.account.enable', 'true')\n",
    "spark._jsc.hadoopConfiguration().set('google.cloud.auth.service.account.json.keyfile', \"/opt/keys/credentials.json\")"
   ]
  },
  {
   "cell_type": "code",
   "execution_count": 4,
   "id": "24fa8be2-14cd-405f-bde7-bd4e27ab8171",
   "metadata": {},
   "outputs": [
    {
     "data": {
      "text/plain": [
       "['gs://data_expo_bucket/2000_data.csv',\n",
       " 'gs://data_expo_bucket/2001_data.csv',\n",
       " 'gs://data_expo_bucket/2002_data.csv',\n",
       " 'gs://data_expo_bucket/2003_data.csv',\n",
       " 'gs://data_expo_bucket/2004_data.csv',\n",
       " 'gs://data_expo_bucket/2005_data.csv',\n",
       " 'gs://data_expo_bucket/2006_data.csv',\n",
       " 'gs://data_expo_bucket/2007_data.csv',\n",
       " 'gs://data_expo_bucket/2008_data.csv']"
      ]
     },
     "execution_count": 4,
     "metadata": {},
     "output_type": "execute_result"
    }
   ],
   "source": [
    "# Read from CSV files\n",
    "bucket_name = \"data_expo_bucket\"\n",
    "files = [f\"gs://{bucket_name}/{year}_data.csv\" for year in range(2000, 2009)]\n",
    "files"
   ]
  },
  {
   "cell_type": "code",
   "execution_count": 5,
   "id": "afdeb19d-977b-43d1-bf74-40c81ead7267",
   "metadata": {},
   "outputs": [
    {
     "name": "stderr",
     "output_type": "stream",
     "text": [
      "                                                                                "
     ]
    }
   ],
   "source": [
    "df = spark.read.option(\"header\", \"true\").csv(files)"
   ]
  },
  {
   "cell_type": "code",
   "execution_count": 8,
   "id": "1ac27742-b6d1-40be-bc29-89269841ca09",
   "metadata": {},
   "outputs": [
    {
     "data": {
      "text/plain": [
       "StructType([StructField('Year', StringType(), True), StructField('Month', StringType(), True), StructField('DayofMonth', StringType(), True), StructField('DayOfWeek', StringType(), True), StructField('DepTime', StringType(), True), StructField('CRSDepTime', StringType(), True), StructField('ArrTime', StringType(), True), StructField('CRSArrTime', StringType(), True), StructField('UniqueCarrier', StringType(), True), StructField('FlightNum', StringType(), True), StructField('TailNum', StringType(), True), StructField('ActualElapsedTime', StringType(), True), StructField('CRSElapsedTime', StringType(), True), StructField('AirTime', StringType(), True), StructField('ArrDelay', StringType(), True), StructField('DepDelay', StringType(), True), StructField('Origin', StringType(), True), StructField('Dest', StringType(), True), StructField('Distance', StringType(), True), StructField('TaxiIn', StringType(), True), StructField('TaxiOut', StringType(), True), StructField('Cancelled', StringType(), True), StructField('CancellationCode', StringType(), True), StructField('Diverted', StringType(), True), StructField('CarrierDelay', StringType(), True), StructField('WeatherDelay', StringType(), True), StructField('NASDelay', StringType(), True), StructField('SecurityDelay', StringType(), True), StructField('LateAircraftDelay', StringType(), True)])"
      ]
     },
     "execution_count": 8,
     "metadata": {},
     "output_type": "execute_result"
    }
   ],
   "source": [
    "# Check DataFrame's schema\n",
    "df.schema"
   ]
  },
  {
   "cell_type": "code",
   "execution_count": 9,
   "id": "e8455d8a-518d-4728-870e-79cc76ee0fa3",
   "metadata": {},
   "outputs": [
    {
     "name": "stderr",
     "output_type": "stream",
     "text": [
      "                                                                                "
     ]
    },
    {
     "data": {
      "text/plain": [
       "[Row(Year='2000', Month='1', DayofMonth='28', DayOfWeek='5', DepTime='1647', CRSDepTime='1647', ArrTime='1906', CRSArrTime='1859', UniqueCarrier='HP', FlightNum='154', TailNum='N808AW', ActualElapsedTime='259', CRSElapsedTime='252', AirTime='233', ArrDelay='7', DepDelay='0', Origin='ATL', Dest='PHX', Distance='1587', TaxiIn='15', TaxiOut='11', Cancelled='0', CancellationCode='NA', Diverted='0', CarrierDelay='NA', WeatherDelay='NA', NASDelay='NA', SecurityDelay='NA', LateAircraftDelay='NA'),\n",
       " Row(Year='2000', Month='1', DayofMonth='29', DayOfWeek='6', DepTime='1648', CRSDepTime='1647', ArrTime='1939', CRSArrTime='1859', UniqueCarrier='HP', FlightNum='154', TailNum='N653AW', ActualElapsedTime='291', CRSElapsedTime='252', AirTime='239', ArrDelay='40', DepDelay='1', Origin='ATL', Dest='PHX', Distance='1587', TaxiIn='5', TaxiOut='47', Cancelled='0', CancellationCode='NA', Diverted='0', CarrierDelay='NA', WeatherDelay='NA', NASDelay='NA', SecurityDelay='NA', LateAircraftDelay='NA'),\n",
       " Row(Year='2000', Month='1', DayofMonth='30', DayOfWeek='7', DepTime='NA', CRSDepTime='1647', ArrTime='NA', CRSArrTime='1859', UniqueCarrier='HP', FlightNum='154', TailNum='N801AW', ActualElapsedTime='NA', CRSElapsedTime='252', AirTime='NA', ArrDelay='NA', DepDelay='NA', Origin='ATL', Dest='PHX', Distance='1587', TaxiIn='0', TaxiOut='0', Cancelled='1', CancellationCode='NA', Diverted='0', CarrierDelay='NA', WeatherDelay='NA', NASDelay='NA', SecurityDelay='NA', LateAircraftDelay='NA'),\n",
       " Row(Year='2000', Month='1', DayofMonth='31', DayOfWeek='1', DepTime='1645', CRSDepTime='1647', ArrTime='1852', CRSArrTime='1859', UniqueCarrier='HP', FlightNum='154', TailNum='N806AW', ActualElapsedTime='247', CRSElapsedTime='252', AirTime='226', ArrDelay='-7', DepDelay='-2', Origin='ATL', Dest='PHX', Distance='1587', TaxiIn='7', TaxiOut='14', Cancelled='0', CancellationCode='NA', Diverted='0', CarrierDelay='NA', WeatherDelay='NA', NASDelay='NA', SecurityDelay='NA', LateAircraftDelay='NA'),\n",
       " Row(Year='2000', Month='1', DayofMonth='1', DayOfWeek='6', DepTime='842', CRSDepTime='846', ArrTime='1057', CRSArrTime='1101', UniqueCarrier='HP', FlightNum='609', TailNum='N158AW', ActualElapsedTime='255', CRSElapsedTime='255', AirTime='244', ArrDelay='-4', DepDelay='-4', Origin='ATL', Dest='PHX', Distance='1587', TaxiIn='3', TaxiOut='8', Cancelled='0', CancellationCode='NA', Diverted='0', CarrierDelay='NA', WeatherDelay='NA', NASDelay='NA', SecurityDelay='NA', LateAircraftDelay='NA')]"
      ]
     },
     "execution_count": 9,
     "metadata": {},
     "output_type": "execute_result"
    }
   ],
   "source": [
    "# Take a look at some records\n",
    "df.take(5)"
   ]
  },
  {
   "cell_type": "code",
   "execution_count": 10,
   "id": "4293ce80-625a-4306-b280-99db1e56d372",
   "metadata": {},
   "outputs": [],
   "source": [
    "# Drop NULL columns\n",
    "cols_to_drop = ['CancellationCode', 'CarrierDelay', 'WeatherDelay', 'NASDelay', 'SecurityDelay', 'LateAircraftDelay']\n",
    "df = df.drop(*cols_to_drop)"
   ]
  },
  {
   "cell_type": "code",
   "execution_count": 11,
   "id": "2b3f96b5-881b-4231-9d02-f6d42abfc534",
   "metadata": {},
   "outputs": [
    {
     "data": {
      "text/plain": [
       "StructType([StructField('Year', StringType(), True), StructField('Month', StringType(), True), StructField('DayofMonth', StringType(), True), StructField('DayOfWeek', StringType(), True), StructField('DepTime', StringType(), True), StructField('CRSDepTime', StringType(), True), StructField('ArrTime', StringType(), True), StructField('CRSArrTime', StringType(), True), StructField('UniqueCarrier', StringType(), True), StructField('FlightNum', StringType(), True), StructField('TailNum', StringType(), True), StructField('ActualElapsedTime', StringType(), True), StructField('CRSElapsedTime', StringType(), True), StructField('AirTime', StringType(), True), StructField('ArrDelay', StringType(), True), StructField('DepDelay', StringType(), True), StructField('Origin', StringType(), True), StructField('Dest', StringType(), True), StructField('Distance', StringType(), True), StructField('TaxiIn', StringType(), True), StructField('TaxiOut', StringType(), True), StructField('Cancelled', StringType(), True), StructField('Diverted', StringType(), True)])"
      ]
     },
     "execution_count": 11,
     "metadata": {},
     "output_type": "execute_result"
    }
   ],
   "source": [
    "# Check DataFrame's schema after dropping columns\n",
    "df.schema"
   ]
  },
  {
   "cell_type": "code",
   "execution_count": 12,
   "id": "87a58f9f-374b-44ba-a98e-ffb393e2cf93",
   "metadata": {},
   "outputs": [],
   "source": [
    "# Repartition for safe parallelism\n",
    "df = df.repartition(40)"
   ]
  },
  {
   "cell_type": "code",
   "execution_count": null,
   "id": "a945dea1-9eaf-4c31-8a26-45ab9b5d490f",
   "metadata": {},
   "outputs": [
    {
     "name": "stderr",
     "output_type": "stream",
     "text": [
      "[Stage 3:====>                                                     (3 + 1) / 41]"
     ]
    }
   ],
   "source": [
    "# Write to Parquet in GCS\n",
    "df.write.mode(\"overwrite\").parquet(f\"gs://{bucket_name}/all_years_parquet\")"
   ]
  },
  {
   "cell_type": "code",
   "execution_count": null,
   "id": "0ea4f508-141a-49c5-9be6-f26194ef75b3",
   "metadata": {},
   "outputs": [],
   "source": []
  }
 ],
 "metadata": {
  "kernelspec": {
   "display_name": "Python 3 (ipykernel)",
   "language": "python",
   "name": "python3"
  },
  "language_info": {
   "codemirror_mode": {
    "name": "ipython",
    "version": 3
   },
   "file_extension": ".py",
   "mimetype": "text/x-python",
   "name": "python",
   "nbconvert_exporter": "python",
   "pygments_lexer": "ipython3",
   "version": "3.12.11"
  }
 },
 "nbformat": 4,
 "nbformat_minor": 5
}
