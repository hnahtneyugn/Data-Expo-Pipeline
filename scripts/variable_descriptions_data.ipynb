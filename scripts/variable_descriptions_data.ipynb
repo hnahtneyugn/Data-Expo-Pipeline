{
 "cells": [
  {
   "cell_type": "code",
   "execution_count": 1,
   "id": "baec3ef6-6f15-430d-9bbb-bef81f81ab1d",
   "metadata": {},
   "outputs": [],
   "source": [
    "import pyspark\n",
    "from pyspark.sql import SparkSession\n",
    "from pyspark.conf import SparkConf\n",
    "from pyspark.context import SparkContext\n",
    "from pyspark.sql import functions as sf"
   ]
  },
  {
   "cell_type": "code",
   "execution_count": 2,
   "id": "2d9b29a3-0fe8-4cf2-885b-722e4c116b42",
   "metadata": {},
   "outputs": [
    {
     "name": "stderr",
     "output_type": "stream",
     "text": [
      "25/08/12 12:42:37 WARN NativeCodeLoader: Unable to load native-hadoop library for your platform... using builtin-java classes where applicable\n",
      "Setting default log level to \"WARN\".\n",
      "To adjust logging level use sc.setLogLevel(newLevel). For SparkR, use setLogLevel(newLevel).\n"
     ]
    }
   ],
   "source": [
    "spark = SparkSession \\\n",
    "        .builder \\\n",
    "        .master(\"spark://spark-master:7077\") \\\n",
    "        .config(\n",
    "        \"spark.jars\",\n",
    "        \"/opt/bitnami/spark/jars/gcs-connector-hadoop3-latest.jar,\"\n",
    "        \"/opt/bitnami/spark/jars/spark-bigquery-with-dependencies_2.12-0.42.4.jar\"\n",
    "        ) \\\n",
    "        .appName('gcs-bq-pyspark') \\\n",
    "        .getOrCreate()"
   ]
  },
  {
   "cell_type": "code",
   "execution_count": 3,
   "id": "c99604f6-16ce-4891-b92c-db3143533573",
   "metadata": {},
   "outputs": [],
   "source": [
    "spark.sparkContext.setLogLevel(\"WARN\")\n",
    "\n",
    "spark._jsc.hadoopConfiguration().set('fs.gs.impl', 'com.google.cloud.hadoop.fs.gcs.GoogleHadoopFileSystem')\n",
    "spark._jsc.hadoopConfiguration().set('fs.gs.auth.service.account.enable', 'true')\n",
    "spark._jsc.hadoopConfiguration().set('google.cloud.auth.service.account.json.keyfile', \"/opt/keys/credentials.json\")"
   ]
  },
  {
   "cell_type": "code",
   "execution_count": 4,
   "id": "b2b77227-cbdc-4e3f-b865-dfdee94a0722",
   "metadata": {},
   "outputs": [],
   "source": [
    "# File information\n",
    "bucket_name = \"data_expo_bucket\"\n",
    "file_name = \"variable_descriptions_data.csv\"\n",
    "file_path = f\"gs://{bucket_name}/{file_name}\""
   ]
  },
  {
   "cell_type": "code",
   "execution_count": 5,
   "id": "ae874a4e-eb6c-4fad-81bd-e425311d4ba1",
   "metadata": {},
   "outputs": [
    {
     "name": "stderr",
     "output_type": "stream",
     "text": [
      "                                                                                "
     ]
    }
   ],
   "source": [
    "# Read CSV file\n",
    "vardes_data = spark.read.option(\"inferSchema\", \"true\").option(\"header\", \"true\").csv(file_path)"
   ]
  },
  {
   "cell_type": "code",
   "execution_count": 7,
   "id": "eed0a205-9927-44b7-a6f2-fe20321a6f86",
   "metadata": {},
   "outputs": [
    {
     "name": "stdout",
     "output_type": "stream",
     "text": [
      "+---------------------+-----------------+--------------------------------------+\n",
      "|Variable descriptions|_c1              |_c2                                   |\n",
      "+---------------------+-----------------+--------------------------------------+\n",
      "|NULL                 |NULL             |NULL                                  |\n",
      "|NULL                 |Name             |Description                           |\n",
      "|1                    |Year             |1987-2008                             |\n",
      "|2                    |Month            |12-Jan                                |\n",
      "|3                    |DayofMonth       |31-Jan                                |\n",
      "|4                    |DayOfWeek        |1 (Monday) - 7 (Sunday)               |\n",
      "|5                    |DepTime          |actual departure time (local, hhmm)   |\n",
      "|6                    |CRSDepTime       |scheduled departure time (local, hhmm)|\n",
      "|7                    |ArrTime          |actual arrival time (local, hhmm)     |\n",
      "|8                    |CRSArrTime       |scheduled arrival time (local, hhmm)  |\n",
      "|9                    |UniqueCarrier    |unique carrier code                   |\n",
      "|10                   |FlightNum        |flight number                         |\n",
      "|11                   |TailNum          |plane tail number                     |\n",
      "|12                   |ActualElapsedTime|in minutes                            |\n",
      "|13                   |CRSElapsedTime   |in minutes                            |\n",
      "|14                   |AirTime          |in minutes                            |\n",
      "|15                   |ArrDelay         |arrival delay, in minutes             |\n",
      "|16                   |DepDelay         |departure delay, in minutes           |\n",
      "|17                   |Origin           |origin IATA airport code              |\n",
      "|18                   |Dest             |destination IATA airport code         |\n",
      "+---------------------+-----------------+--------------------------------------+\n",
      "only showing top 20 rows\n",
      "\n"
     ]
    },
    {
     "name": "stderr",
     "output_type": "stream",
     "text": [
      "                                                                                "
     ]
    }
   ],
   "source": [
    "# Show the data\n",
    "vardes_data.show(truncate=False)"
   ]
  },
  {
   "cell_type": "code",
   "execution_count": 9,
   "id": "ce6134e6-82a4-4f1b-9d69-834d96c0485f",
   "metadata": {},
   "outputs": [
    {
     "data": {
      "text/plain": [
       "StructType([StructField('Variable descriptions', IntegerType(), True), StructField('_c1', StringType(), True), StructField('_c2', StringType(), True)])"
      ]
     },
     "execution_count": 9,
     "metadata": {},
     "output_type": "execute_result"
    }
   ],
   "source": [
    "# Read file schema\n",
    "vardes_data.schema"
   ]
  },
  {
   "cell_type": "code",
   "execution_count": 10,
   "id": "cf9d6603-1b1e-426e-9d34-d4763404fc82",
   "metadata": {},
   "outputs": [
    {
     "data": {
      "text/plain": [
       "31"
      ]
     },
     "execution_count": 10,
     "metadata": {},
     "output_type": "execute_result"
    }
   ],
   "source": [
    "# Count number of records\n",
    "vardes_data.count()"
   ]
  },
  {
   "cell_type": "code",
   "execution_count": 13,
   "id": "be96d73a-ab69-4ef6-9854-bd0beaf382f8",
   "metadata": {},
   "outputs": [],
   "source": [
    "# Rename the DataFrame\n",
    "vardes_data = vardes_data.withColumnRenamed(\"_c1\", \"Name\").withColumnRenamed(\"_c2\", \"Description\")"
   ]
  },
  {
   "cell_type": "code",
   "execution_count": 15,
   "id": "ffff2343-ad45-4c20-83a9-6f30905298aa",
   "metadata": {},
   "outputs": [
    {
     "name": "stdout",
     "output_type": "stream",
     "text": [
      "+---------------------+-----------------+--------------------------------------+\n",
      "|Variable descriptions|Name             |Description                           |\n",
      "+---------------------+-----------------+--------------------------------------+\n",
      "|NULL                 |NULL             |NULL                                  |\n",
      "|NULL                 |Name             |Description                           |\n",
      "|1                    |Year             |1987-2008                             |\n",
      "|2                    |Month            |12-Jan                                |\n",
      "|3                    |DayofMonth       |31-Jan                                |\n",
      "|4                    |DayOfWeek        |1 (Monday) - 7 (Sunday)               |\n",
      "|5                    |DepTime          |actual departure time (local, hhmm)   |\n",
      "|6                    |CRSDepTime       |scheduled departure time (local, hhmm)|\n",
      "|7                    |ArrTime          |actual arrival time (local, hhmm)     |\n",
      "|8                    |CRSArrTime       |scheduled arrival time (local, hhmm)  |\n",
      "|9                    |UniqueCarrier    |unique carrier code                   |\n",
      "|10                   |FlightNum        |flight number                         |\n",
      "|11                   |TailNum          |plane tail number                     |\n",
      "|12                   |ActualElapsedTime|in minutes                            |\n",
      "|13                   |CRSElapsedTime   |in minutes                            |\n",
      "|14                   |AirTime          |in minutes                            |\n",
      "|15                   |ArrDelay         |arrival delay, in minutes             |\n",
      "|16                   |DepDelay         |departure delay, in minutes           |\n",
      "|17                   |Origin           |origin IATA airport code              |\n",
      "|18                   |Dest             |destination IATA airport code         |\n",
      "+---------------------+-----------------+--------------------------------------+\n",
      "only showing top 20 rows\n",
      "\n"
     ]
    },
    {
     "name": "stderr",
     "output_type": "stream",
     "text": [
      "                                                                                "
     ]
    }
   ],
   "source": [
    "# DataFrame after renaming\n",
    "vardes_data.show(truncate=False)"
   ]
  },
  {
   "cell_type": "code",
   "execution_count": 16,
   "id": "4a700e49-a50b-4c8d-a13d-03a05e2e8acf",
   "metadata": {},
   "outputs": [],
   "source": [
    "# Remove rows with NULL\n",
    "vardes_data = vardes_data.filter(sf.col(\"Variable descriptions\").isNotNull())"
   ]
  },
  {
   "cell_type": "code",
   "execution_count": 18,
   "id": "ddbfcfac-b36a-4c35-84bd-db1bc19ffb27",
   "metadata": {},
   "outputs": [
    {
     "name": "stdout",
     "output_type": "stream",
     "text": [
      "+---------------------+-----------------+--------------------------------------+\n",
      "|Variable descriptions|Name             |Description                           |\n",
      "+---------------------+-----------------+--------------------------------------+\n",
      "|1                    |Year             |1987-2008                             |\n",
      "|2                    |Month            |12-Jan                                |\n",
      "|3                    |DayofMonth       |31-Jan                                |\n",
      "|4                    |DayOfWeek        |1 (Monday) - 7 (Sunday)               |\n",
      "|5                    |DepTime          |actual departure time (local, hhmm)   |\n",
      "|6                    |CRSDepTime       |scheduled departure time (local, hhmm)|\n",
      "|7                    |ArrTime          |actual arrival time (local, hhmm)     |\n",
      "|8                    |CRSArrTime       |scheduled arrival time (local, hhmm)  |\n",
      "|9                    |UniqueCarrier    |unique carrier code                   |\n",
      "|10                   |FlightNum        |flight number                         |\n",
      "|11                   |TailNum          |plane tail number                     |\n",
      "|12                   |ActualElapsedTime|in minutes                            |\n",
      "|13                   |CRSElapsedTime   |in minutes                            |\n",
      "|14                   |AirTime          |in minutes                            |\n",
      "|15                   |ArrDelay         |arrival delay, in minutes             |\n",
      "|16                   |DepDelay         |departure delay, in minutes           |\n",
      "|17                   |Origin           |origin IATA airport code              |\n",
      "|18                   |Dest             |destination IATA airport code         |\n",
      "|19                   |Distance         |in miles                              |\n",
      "|20                   |TaxiIn           |taxi in time, in minutes              |\n",
      "+---------------------+-----------------+--------------------------------------+\n",
      "only showing top 20 rows\n",
      "\n"
     ]
    },
    {
     "name": "stderr",
     "output_type": "stream",
     "text": [
      "                                                                                "
     ]
    }
   ],
   "source": [
    "# DataFrame after removing NULL values\n",
    "vardes_data.show(truncate=False)"
   ]
  },
  {
   "cell_type": "code",
   "execution_count": 20,
   "id": "2e97eb8d-bd67-4aa2-9b68-6e531d89413c",
   "metadata": {},
   "outputs": [
    {
     "name": "stderr",
     "output_type": "stream",
     "text": [
      "                                                                                "
     ]
    },
    {
     "data": {
      "text/plain": [
       "29"
      ]
     },
     "execution_count": 20,
     "metadata": {},
     "output_type": "execute_result"
    }
   ],
   "source": [
    "# Number of records after removing NULL values\n",
    "vardes_data.count()"
   ]
  },
  {
   "cell_type": "code",
   "execution_count": 22,
   "id": "798e4ea2-2353-4449-b437-39532b167ddf",
   "metadata": {},
   "outputs": [],
   "source": [
    "# Push data after modification to BigQuery as Table\n",
    "spark.conf.set('temporaryGcsBucket', 'data_expo_temp_bucket')\n",
    "output_dataset = \"data-expo-pipeline.data_expo_dataset.variable_description_table\""
   ]
  },
  {
   "cell_type": "code",
   "execution_count": 23,
   "id": "f6dbbb0c-4467-4b79-ad07-f0c94f0d87a5",
   "metadata": {},
   "outputs": [
    {
     "name": "stderr",
     "output_type": "stream",
     "text": [
      "                                                                                "
     ]
    }
   ],
   "source": [
    "vardes_data.write.format('bigquery').option('table', output_dataset).mode(\"overwrite\").save()"
   ]
  },
  {
   "cell_type": "code",
   "execution_count": 24,
   "id": "63b44c0c-13dd-47da-9015-bb8230f7a525",
   "metadata": {},
   "outputs": [],
   "source": [
    "spark.stop()"
   ]
  },
  {
   "cell_type": "code",
   "execution_count": null,
   "id": "dd9349d3-3f84-435e-86b8-81aaa3419753",
   "metadata": {},
   "outputs": [],
   "source": []
  }
 ],
 "metadata": {
  "kernelspec": {
   "display_name": "Python 3 (ipykernel)",
   "language": "python",
   "name": "python3"
  },
  "language_info": {
   "codemirror_mode": {
    "name": "ipython",
    "version": 3
   },
   "file_extension": ".py",
   "mimetype": "text/x-python",
   "name": "python",
   "nbconvert_exporter": "python",
   "pygments_lexer": "ipython3",
   "version": "3.12.11"
  }
 },
 "nbformat": 4,
 "nbformat_minor": 5
}
